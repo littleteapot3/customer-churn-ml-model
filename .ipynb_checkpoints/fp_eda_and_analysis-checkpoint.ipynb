{
 "cells": [
  {
   "cell_type": "markdown",
   "id": "d3ce9335",
   "metadata": {},
   "source": [
    "# 📊 Customer Churn Analysis: EDA & Statistical Testing\n",
    "\n",
    "This notebook contains all steps leading up to modeling:\n",
    "\n",
    "- ✅ Load and merge raw data from multiple sources\n",
    "- ✅ Preprocess and engineer features\n",
    "- ✅ Explore churn patterns through visual EDA\n",
    "- ✅ Perform statistical tests (SDA) to validate key insights\n",
    "\n",
    "**Goal**: Understand which customer behaviors and attributes are associated with churn, and identify features to use in modeling.\n"
   ]
  },
  {
   "cell_type": "markdown",
   "id": "3e7f49f7",
   "metadata": {},
   "source": [
    "# Telecom Customer Churn Prediction\n",
    "\n",
    "## Introduction and Goal\n",
    "**Goal:**\n",
    "Interconnect, a telecom operator, wants to identify customers who are likely to cancel their service contracts. \n",
    "By forecasting churn in advance, the company can proactively offer promotional deals or plan adjustments to retain at-risk users.\n",
    "\n",
    "- **Target:** 'EndDate' == 'No'\n",
    "- **Primary metric:** AUC-ROC\n",
    "- **Secondary metric:** Accuracy"
   ]
  },
  {
   "cell_type": "markdown",
   "id": "aafcf73c",
   "metadata": {},
   "source": [
    "# Import Libraries"
   ]
  },
  {
   "cell_type": "code",
   "execution_count": 1,
   "id": "7d5ba9f6",
   "metadata": {},
   "outputs": [],
   "source": [
    "import pandas as pd\n",
    "import numpy as np\n",
    "import matplotlib.pyplot as plt\n",
    "import seaborn as sns\n",
    "\n",
    "from sklearn.model_selection import train_test_split\n",
    "from sklearn.preprocessing import StandardScaler, LabelEncoder\n",
    "from sklearn.metrics import roc_auc_score, accuracy_score, classification_report\n",
    "\n",
    "import warnings\n",
    "warnings.filterwarnings('ignore')\n",
    "\n",
    "from scipy.stats import mannwhitneyu\n",
    "from scipy.stats import chi2_contingency"
   ]
  },
  {
   "cell_type": "markdown",
   "id": "95a2012c",
   "metadata": {},
   "source": [
    "## Helper Functions"
   ]
  },
  {
   "cell_type": "code",
   "execution_count": 2,
   "id": "d3d982e7",
   "metadata": {},
   "outputs": [],
   "source": [
    "# Preview a single DataFrame\n",
    "def preview_df(df, name=\"DataFrame\"):\n",
    "    print(f\"{name}\")\n",
    "    print(\"Shape:\", df.shape)\n",
    "    print(\"Missing values:\\n\", df.isnull().sum())\n",
    "    display(df.head())\n",
    "    print(\"\\nInfo:\")\n",
    "    print(df.info())\n",
    "    print(\"\\nColunns\")\n",
    "    print(df.columns)\n",
    "    print(\"-\" * 30)\n",
    "\n"
   ]
  },
  {
   "cell_type": "markdown",
   "id": "cdc6980d",
   "metadata": {},
   "source": [
    "# Load and Inspect Data"
   ]
  },
  {
   "cell_type": "code",
   "execution_count": 3,
   "id": "e0a454d4",
   "metadata": {},
   "outputs": [
    {
     "name": "stdout",
     "output_type": "stream",
     "text": [
      "Files loaded successfully from local\n"
     ]
    }
   ],
   "source": [
    "# Load datasets\n",
    "try:\n",
    "    contract = pd.read_csv('datasets/final_provider/contract.csv')\n",
    "    personal = pd.read_csv('datasets/final_provider/personal.csv')\n",
    "    internet = pd.read_csv('datasets/final_provider/internet.csv')\n",
    "    phone = pd.read_csv('datasets/final_provider/phone.csv')\n",
    "    print(\"Files loaded successfully from local\")\n",
    "except FileNotFoundError as e:\n",
    "    print(\"Files not found:\", e)\n",
    "except Exception as e:\n",
    "    print(\"Error occurred while loading the files\")"
   ]
  },
  {
   "cell_type": "code",
   "execution_count": 4,
   "id": "5e7dc3af",
   "metadata": {
    "scrolled": true
   },
   "outputs": [
    {
     "name": "stdout",
     "output_type": "stream",
     "text": [
      "Contract\n",
      "Shape: (7043, 8)\n",
      "Missing values:\n",
      " customerID          0\n",
      "BeginDate           0\n",
      "EndDate             0\n",
      "Type                0\n",
      "PaperlessBilling    0\n",
      "PaymentMethod       0\n",
      "MonthlyCharges      0\n",
      "TotalCharges        0\n",
      "dtype: int64\n"
     ]
    },
    {
     "data": {
      "text/html": [
       "<div>\n",
       "<style scoped>\n",
       "    .dataframe tbody tr th:only-of-type {\n",
       "        vertical-align: middle;\n",
       "    }\n",
       "\n",
       "    .dataframe tbody tr th {\n",
       "        vertical-align: top;\n",
       "    }\n",
       "\n",
       "    .dataframe thead th {\n",
       "        text-align: right;\n",
       "    }\n",
       "</style>\n",
       "<table border=\"1\" class=\"dataframe\">\n",
       "  <thead>\n",
       "    <tr style=\"text-align: right;\">\n",
       "      <th></th>\n",
       "      <th>customerID</th>\n",
       "      <th>BeginDate</th>\n",
       "      <th>EndDate</th>\n",
       "      <th>Type</th>\n",
       "      <th>PaperlessBilling</th>\n",
       "      <th>PaymentMethod</th>\n",
       "      <th>MonthlyCharges</th>\n",
       "      <th>TotalCharges</th>\n",
       "    </tr>\n",
       "  </thead>\n",
       "  <tbody>\n",
       "    <tr>\n",
       "      <th>0</th>\n",
       "      <td>7590-VHVEG</td>\n",
       "      <td>2020-01-01</td>\n",
       "      <td>No</td>\n",
       "      <td>Month-to-month</td>\n",
       "      <td>Yes</td>\n",
       "      <td>Electronic check</td>\n",
       "      <td>29.85</td>\n",
       "      <td>29.85</td>\n",
       "    </tr>\n",
       "    <tr>\n",
       "      <th>1</th>\n",
       "      <td>5575-GNVDE</td>\n",
       "      <td>2017-04-01</td>\n",
       "      <td>No</td>\n",
       "      <td>One year</td>\n",
       "      <td>No</td>\n",
       "      <td>Mailed check</td>\n",
       "      <td>56.95</td>\n",
       "      <td>1889.5</td>\n",
       "    </tr>\n",
       "    <tr>\n",
       "      <th>2</th>\n",
       "      <td>3668-QPYBK</td>\n",
       "      <td>2019-10-01</td>\n",
       "      <td>2019-12-01 00:00:00</td>\n",
       "      <td>Month-to-month</td>\n",
       "      <td>Yes</td>\n",
       "      <td>Mailed check</td>\n",
       "      <td>53.85</td>\n",
       "      <td>108.15</td>\n",
       "    </tr>\n",
       "    <tr>\n",
       "      <th>3</th>\n",
       "      <td>7795-CFOCW</td>\n",
       "      <td>2016-05-01</td>\n",
       "      <td>No</td>\n",
       "      <td>One year</td>\n",
       "      <td>No</td>\n",
       "      <td>Bank transfer (automatic)</td>\n",
       "      <td>42.30</td>\n",
       "      <td>1840.75</td>\n",
       "    </tr>\n",
       "    <tr>\n",
       "      <th>4</th>\n",
       "      <td>9237-HQITU</td>\n",
       "      <td>2019-09-01</td>\n",
       "      <td>2019-11-01 00:00:00</td>\n",
       "      <td>Month-to-month</td>\n",
       "      <td>Yes</td>\n",
       "      <td>Electronic check</td>\n",
       "      <td>70.70</td>\n",
       "      <td>151.65</td>\n",
       "    </tr>\n",
       "  </tbody>\n",
       "</table>\n",
       "</div>"
      ],
      "text/plain": [
       "   customerID   BeginDate              EndDate            Type  \\\n",
       "0  7590-VHVEG  2020-01-01                   No  Month-to-month   \n",
       "1  5575-GNVDE  2017-04-01                   No        One year   \n",
       "2  3668-QPYBK  2019-10-01  2019-12-01 00:00:00  Month-to-month   \n",
       "3  7795-CFOCW  2016-05-01                   No        One year   \n",
       "4  9237-HQITU  2019-09-01  2019-11-01 00:00:00  Month-to-month   \n",
       "\n",
       "  PaperlessBilling              PaymentMethod  MonthlyCharges TotalCharges  \n",
       "0              Yes           Electronic check           29.85        29.85  \n",
       "1               No               Mailed check           56.95       1889.5  \n",
       "2              Yes               Mailed check           53.85       108.15  \n",
       "3               No  Bank transfer (automatic)           42.30      1840.75  \n",
       "4              Yes           Electronic check           70.70       151.65  "
      ]
     },
     "metadata": {},
     "output_type": "display_data"
    },
    {
     "name": "stdout",
     "output_type": "stream",
     "text": [
      "\n",
      "Info:\n",
      "<class 'pandas.core.frame.DataFrame'>\n",
      "RangeIndex: 7043 entries, 0 to 7042\n",
      "Data columns (total 8 columns):\n",
      " #   Column            Non-Null Count  Dtype  \n",
      "---  ------            --------------  -----  \n",
      " 0   customerID        7043 non-null   object \n",
      " 1   BeginDate         7043 non-null   object \n",
      " 2   EndDate           7043 non-null   object \n",
      " 3   Type              7043 non-null   object \n",
      " 4   PaperlessBilling  7043 non-null   object \n",
      " 5   PaymentMethod     7043 non-null   object \n",
      " 6   MonthlyCharges    7043 non-null   float64\n",
      " 7   TotalCharges      7043 non-null   object \n",
      "dtypes: float64(1), object(7)\n",
      "memory usage: 440.3+ KB\n",
      "None\n",
      "\n",
      "Colunns\n",
      "Index(['customerID', 'BeginDate', 'EndDate', 'Type', 'PaperlessBilling',\n",
      "       'PaymentMethod', 'MonthlyCharges', 'TotalCharges'],\n",
      "      dtype='object')\n",
      "------------------------------\n",
      "Personal\n",
      "Shape: (7043, 5)\n",
      "Missing values:\n",
      " customerID       0\n",
      "gender           0\n",
      "SeniorCitizen    0\n",
      "Partner          0\n",
      "Dependents       0\n",
      "dtype: int64\n"
     ]
    },
    {
     "data": {
      "text/html": [
       "<div>\n",
       "<style scoped>\n",
       "    .dataframe tbody tr th:only-of-type {\n",
       "        vertical-align: middle;\n",
       "    }\n",
       "\n",
       "    .dataframe tbody tr th {\n",
       "        vertical-align: top;\n",
       "    }\n",
       "\n",
       "    .dataframe thead th {\n",
       "        text-align: right;\n",
       "    }\n",
       "</style>\n",
       "<table border=\"1\" class=\"dataframe\">\n",
       "  <thead>\n",
       "    <tr style=\"text-align: right;\">\n",
       "      <th></th>\n",
       "      <th>customerID</th>\n",
       "      <th>gender</th>\n",
       "      <th>SeniorCitizen</th>\n",
       "      <th>Partner</th>\n",
       "      <th>Dependents</th>\n",
       "    </tr>\n",
       "  </thead>\n",
       "  <tbody>\n",
       "    <tr>\n",
       "      <th>0</th>\n",
       "      <td>7590-VHVEG</td>\n",
       "      <td>Female</td>\n",
       "      <td>0</td>\n",
       "      <td>Yes</td>\n",
       "      <td>No</td>\n",
       "    </tr>\n",
       "    <tr>\n",
       "      <th>1</th>\n",
       "      <td>5575-GNVDE</td>\n",
       "      <td>Male</td>\n",
       "      <td>0</td>\n",
       "      <td>No</td>\n",
       "      <td>No</td>\n",
       "    </tr>\n",
       "    <tr>\n",
       "      <th>2</th>\n",
       "      <td>3668-QPYBK</td>\n",
       "      <td>Male</td>\n",
       "      <td>0</td>\n",
       "      <td>No</td>\n",
       "      <td>No</td>\n",
       "    </tr>\n",
       "    <tr>\n",
       "      <th>3</th>\n",
       "      <td>7795-CFOCW</td>\n",
       "      <td>Male</td>\n",
       "      <td>0</td>\n",
       "      <td>No</td>\n",
       "      <td>No</td>\n",
       "    </tr>\n",
       "    <tr>\n",
       "      <th>4</th>\n",
       "      <td>9237-HQITU</td>\n",
       "      <td>Female</td>\n",
       "      <td>0</td>\n",
       "      <td>No</td>\n",
       "      <td>No</td>\n",
       "    </tr>\n",
       "  </tbody>\n",
       "</table>\n",
       "</div>"
      ],
      "text/plain": [
       "   customerID  gender  SeniorCitizen Partner Dependents\n",
       "0  7590-VHVEG  Female              0     Yes         No\n",
       "1  5575-GNVDE    Male              0      No         No\n",
       "2  3668-QPYBK    Male              0      No         No\n",
       "3  7795-CFOCW    Male              0      No         No\n",
       "4  9237-HQITU  Female              0      No         No"
      ]
     },
     "metadata": {},
     "output_type": "display_data"
    },
    {
     "name": "stdout",
     "output_type": "stream",
     "text": [
      "\n",
      "Info:\n",
      "<class 'pandas.core.frame.DataFrame'>\n",
      "RangeIndex: 7043 entries, 0 to 7042\n",
      "Data columns (total 5 columns):\n",
      " #   Column         Non-Null Count  Dtype \n",
      "---  ------         --------------  ----- \n",
      " 0   customerID     7043 non-null   object\n",
      " 1   gender         7043 non-null   object\n",
      " 2   SeniorCitizen  7043 non-null   int64 \n",
      " 3   Partner        7043 non-null   object\n",
      " 4   Dependents     7043 non-null   object\n",
      "dtypes: int64(1), object(4)\n",
      "memory usage: 275.2+ KB\n",
      "None\n",
      "\n",
      "Colunns\n",
      "Index(['customerID', 'gender', 'SeniorCitizen', 'Partner', 'Dependents'], dtype='object')\n",
      "------------------------------\n",
      "Internet\n",
      "Shape: (5517, 8)\n",
      "Missing values:\n",
      " customerID          0\n",
      "InternetService     0\n",
      "OnlineSecurity      0\n",
      "OnlineBackup        0\n",
      "DeviceProtection    0\n",
      "TechSupport         0\n",
      "StreamingTV         0\n",
      "StreamingMovies     0\n",
      "dtype: int64\n"
     ]
    },
    {
     "data": {
      "text/html": [
       "<div>\n",
       "<style scoped>\n",
       "    .dataframe tbody tr th:only-of-type {\n",
       "        vertical-align: middle;\n",
       "    }\n",
       "\n",
       "    .dataframe tbody tr th {\n",
       "        vertical-align: top;\n",
       "    }\n",
       "\n",
       "    .dataframe thead th {\n",
       "        text-align: right;\n",
       "    }\n",
       "</style>\n",
       "<table border=\"1\" class=\"dataframe\">\n",
       "  <thead>\n",
       "    <tr style=\"text-align: right;\">\n",
       "      <th></th>\n",
       "      <th>customerID</th>\n",
       "      <th>InternetService</th>\n",
       "      <th>OnlineSecurity</th>\n",
       "      <th>OnlineBackup</th>\n",
       "      <th>DeviceProtection</th>\n",
       "      <th>TechSupport</th>\n",
       "      <th>StreamingTV</th>\n",
       "      <th>StreamingMovies</th>\n",
       "    </tr>\n",
       "  </thead>\n",
       "  <tbody>\n",
       "    <tr>\n",
       "      <th>0</th>\n",
       "      <td>7590-VHVEG</td>\n",
       "      <td>DSL</td>\n",
       "      <td>No</td>\n",
       "      <td>Yes</td>\n",
       "      <td>No</td>\n",
       "      <td>No</td>\n",
       "      <td>No</td>\n",
       "      <td>No</td>\n",
       "    </tr>\n",
       "    <tr>\n",
       "      <th>1</th>\n",
       "      <td>5575-GNVDE</td>\n",
       "      <td>DSL</td>\n",
       "      <td>Yes</td>\n",
       "      <td>No</td>\n",
       "      <td>Yes</td>\n",
       "      <td>No</td>\n",
       "      <td>No</td>\n",
       "      <td>No</td>\n",
       "    </tr>\n",
       "    <tr>\n",
       "      <th>2</th>\n",
       "      <td>3668-QPYBK</td>\n",
       "      <td>DSL</td>\n",
       "      <td>Yes</td>\n",
       "      <td>Yes</td>\n",
       "      <td>No</td>\n",
       "      <td>No</td>\n",
       "      <td>No</td>\n",
       "      <td>No</td>\n",
       "    </tr>\n",
       "    <tr>\n",
       "      <th>3</th>\n",
       "      <td>7795-CFOCW</td>\n",
       "      <td>DSL</td>\n",
       "      <td>Yes</td>\n",
       "      <td>No</td>\n",
       "      <td>Yes</td>\n",
       "      <td>Yes</td>\n",
       "      <td>No</td>\n",
       "      <td>No</td>\n",
       "    </tr>\n",
       "    <tr>\n",
       "      <th>4</th>\n",
       "      <td>9237-HQITU</td>\n",
       "      <td>Fiber optic</td>\n",
       "      <td>No</td>\n",
       "      <td>No</td>\n",
       "      <td>No</td>\n",
       "      <td>No</td>\n",
       "      <td>No</td>\n",
       "      <td>No</td>\n",
       "    </tr>\n",
       "  </tbody>\n",
       "</table>\n",
       "</div>"
      ],
      "text/plain": [
       "   customerID InternetService OnlineSecurity OnlineBackup DeviceProtection  \\\n",
       "0  7590-VHVEG             DSL             No          Yes               No   \n",
       "1  5575-GNVDE             DSL            Yes           No              Yes   \n",
       "2  3668-QPYBK             DSL            Yes          Yes               No   \n",
       "3  7795-CFOCW             DSL            Yes           No              Yes   \n",
       "4  9237-HQITU     Fiber optic             No           No               No   \n",
       "\n",
       "  TechSupport StreamingTV StreamingMovies  \n",
       "0          No          No              No  \n",
       "1          No          No              No  \n",
       "2          No          No              No  \n",
       "3         Yes          No              No  \n",
       "4          No          No              No  "
      ]
     },
     "metadata": {},
     "output_type": "display_data"
    },
    {
     "name": "stdout",
     "output_type": "stream",
     "text": [
      "\n",
      "Info:\n",
      "<class 'pandas.core.frame.DataFrame'>\n",
      "RangeIndex: 5517 entries, 0 to 5516\n",
      "Data columns (total 8 columns):\n",
      " #   Column            Non-Null Count  Dtype \n",
      "---  ------            --------------  ----- \n",
      " 0   customerID        5517 non-null   object\n",
      " 1   InternetService   5517 non-null   object\n",
      " 2   OnlineSecurity    5517 non-null   object\n",
      " 3   OnlineBackup      5517 non-null   object\n",
      " 4   DeviceProtection  5517 non-null   object\n",
      " 5   TechSupport       5517 non-null   object\n",
      " 6   StreamingTV       5517 non-null   object\n",
      " 7   StreamingMovies   5517 non-null   object\n",
      "dtypes: object(8)\n",
      "memory usage: 344.9+ KB\n",
      "None\n",
      "\n",
      "Colunns\n",
      "Index(['customerID', 'InternetService', 'OnlineSecurity', 'OnlineBackup',\n",
      "       'DeviceProtection', 'TechSupport', 'StreamingTV', 'StreamingMovies'],\n",
      "      dtype='object')\n",
      "------------------------------\n",
      "Phone\n",
      "Shape: (6361, 2)\n",
      "Missing values:\n",
      " customerID       0\n",
      "MultipleLines    0\n",
      "dtype: int64\n"
     ]
    },
    {
     "data": {
      "text/html": [
       "<div>\n",
       "<style scoped>\n",
       "    .dataframe tbody tr th:only-of-type {\n",
       "        vertical-align: middle;\n",
       "    }\n",
       "\n",
       "    .dataframe tbody tr th {\n",
       "        vertical-align: top;\n",
       "    }\n",
       "\n",
       "    .dataframe thead th {\n",
       "        text-align: right;\n",
       "    }\n",
       "</style>\n",
       "<table border=\"1\" class=\"dataframe\">\n",
       "  <thead>\n",
       "    <tr style=\"text-align: right;\">\n",
       "      <th></th>\n",
       "      <th>customerID</th>\n",
       "      <th>MultipleLines</th>\n",
       "    </tr>\n",
       "  </thead>\n",
       "  <tbody>\n",
       "    <tr>\n",
       "      <th>0</th>\n",
       "      <td>5575-GNVDE</td>\n",
       "      <td>No</td>\n",
       "    </tr>\n",
       "    <tr>\n",
       "      <th>1</th>\n",
       "      <td>3668-QPYBK</td>\n",
       "      <td>No</td>\n",
       "    </tr>\n",
       "    <tr>\n",
       "      <th>2</th>\n",
       "      <td>9237-HQITU</td>\n",
       "      <td>No</td>\n",
       "    </tr>\n",
       "    <tr>\n",
       "      <th>3</th>\n",
       "      <td>9305-CDSKC</td>\n",
       "      <td>Yes</td>\n",
       "    </tr>\n",
       "    <tr>\n",
       "      <th>4</th>\n",
       "      <td>1452-KIOVK</td>\n",
       "      <td>Yes</td>\n",
       "    </tr>\n",
       "  </tbody>\n",
       "</table>\n",
       "</div>"
      ],
      "text/plain": [
       "   customerID MultipleLines\n",
       "0  5575-GNVDE            No\n",
       "1  3668-QPYBK            No\n",
       "2  9237-HQITU            No\n",
       "3  9305-CDSKC           Yes\n",
       "4  1452-KIOVK           Yes"
      ]
     },
     "metadata": {},
     "output_type": "display_data"
    },
    {
     "name": "stdout",
     "output_type": "stream",
     "text": [
      "\n",
      "Info:\n",
      "<class 'pandas.core.frame.DataFrame'>\n",
      "RangeIndex: 6361 entries, 0 to 6360\n",
      "Data columns (total 2 columns):\n",
      " #   Column         Non-Null Count  Dtype \n",
      "---  ------         --------------  ----- \n",
      " 0   customerID     6361 non-null   object\n",
      " 1   MultipleLines  6361 non-null   object\n",
      "dtypes: object(2)\n",
      "memory usage: 99.5+ KB\n",
      "None\n",
      "\n",
      "Colunns\n",
      "Index(['customerID', 'MultipleLines'], dtype='object')\n",
      "------------------------------\n"
     ]
    }
   ],
   "source": [
    "preview_df(contract, 'Contract')\n",
    "preview_df(personal, 'Personal')\n",
    "preview_df(internet, 'Internet')\n",
    "preview_df(phone, 'Phone')"
   ]
  },
  {
   "cell_type": "markdown",
   "id": "4b1ccaaa",
   "metadata": {},
   "source": [
    "From our quick look at the data, we can see that `contract.csv` has our target variable. We can also see that not all customers have Internet and Phone service. \n"
   ]
  },
  {
   "cell_type": "markdown",
   "id": "03516c20",
   "metadata": {},
   "source": [
    "# Merge Datasets"
   ]
  },
  {
   "cell_type": "markdown",
   "id": "f8cf2596",
   "metadata": {},
   "source": [
    "We'll merge the data to get a better view of:\n",
    "- checking coverage (who's missing Internet or phone)\n",
    "- handling the missing values\n",
    "- doing a unified EDA on one dataset"
   ]
  },
  {
   "cell_type": "code",
   "execution_count": 5,
   "id": "3796d672",
   "metadata": {
    "scrolled": true
   },
   "outputs": [
    {
     "name": "stdout",
     "output_type": "stream",
     "text": [
      "(7043, 20)\n"
     ]
    },
    {
     "data": {
      "text/html": [
       "<div>\n",
       "<style scoped>\n",
       "    .dataframe tbody tr th:only-of-type {\n",
       "        vertical-align: middle;\n",
       "    }\n",
       "\n",
       "    .dataframe tbody tr th {\n",
       "        vertical-align: top;\n",
       "    }\n",
       "\n",
       "    .dataframe thead th {\n",
       "        text-align: right;\n",
       "    }\n",
       "</style>\n",
       "<table border=\"1\" class=\"dataframe\">\n",
       "  <thead>\n",
       "    <tr style=\"text-align: right;\">\n",
       "      <th></th>\n",
       "      <th>customerID</th>\n",
       "      <th>BeginDate</th>\n",
       "      <th>EndDate</th>\n",
       "      <th>Type</th>\n",
       "      <th>PaperlessBilling</th>\n",
       "      <th>PaymentMethod</th>\n",
       "      <th>MonthlyCharges</th>\n",
       "      <th>TotalCharges</th>\n",
       "      <th>gender</th>\n",
       "      <th>SeniorCitizen</th>\n",
       "      <th>Partner</th>\n",
       "      <th>Dependents</th>\n",
       "      <th>InternetService</th>\n",
       "      <th>OnlineSecurity</th>\n",
       "      <th>OnlineBackup</th>\n",
       "      <th>DeviceProtection</th>\n",
       "      <th>TechSupport</th>\n",
       "      <th>StreamingTV</th>\n",
       "      <th>StreamingMovies</th>\n",
       "      <th>MultipleLines</th>\n",
       "    </tr>\n",
       "  </thead>\n",
       "  <tbody>\n",
       "    <tr>\n",
       "      <th>0</th>\n",
       "      <td>7590-VHVEG</td>\n",
       "      <td>2020-01-01</td>\n",
       "      <td>No</td>\n",
       "      <td>Month-to-month</td>\n",
       "      <td>Yes</td>\n",
       "      <td>Electronic check</td>\n",
       "      <td>29.85</td>\n",
       "      <td>29.85</td>\n",
       "      <td>Female</td>\n",
       "      <td>0</td>\n",
       "      <td>Yes</td>\n",
       "      <td>No</td>\n",
       "      <td>DSL</td>\n",
       "      <td>No</td>\n",
       "      <td>Yes</td>\n",
       "      <td>No</td>\n",
       "      <td>No</td>\n",
       "      <td>No</td>\n",
       "      <td>No</td>\n",
       "      <td>NaN</td>\n",
       "    </tr>\n",
       "    <tr>\n",
       "      <th>1</th>\n",
       "      <td>5575-GNVDE</td>\n",
       "      <td>2017-04-01</td>\n",
       "      <td>No</td>\n",
       "      <td>One year</td>\n",
       "      <td>No</td>\n",
       "      <td>Mailed check</td>\n",
       "      <td>56.95</td>\n",
       "      <td>1889.5</td>\n",
       "      <td>Male</td>\n",
       "      <td>0</td>\n",
       "      <td>No</td>\n",
       "      <td>No</td>\n",
       "      <td>DSL</td>\n",
       "      <td>Yes</td>\n",
       "      <td>No</td>\n",
       "      <td>Yes</td>\n",
       "      <td>No</td>\n",
       "      <td>No</td>\n",
       "      <td>No</td>\n",
       "      <td>No</td>\n",
       "    </tr>\n",
       "    <tr>\n",
       "      <th>2</th>\n",
       "      <td>3668-QPYBK</td>\n",
       "      <td>2019-10-01</td>\n",
       "      <td>2019-12-01 00:00:00</td>\n",
       "      <td>Month-to-month</td>\n",
       "      <td>Yes</td>\n",
       "      <td>Mailed check</td>\n",
       "      <td>53.85</td>\n",
       "      <td>108.15</td>\n",
       "      <td>Male</td>\n",
       "      <td>0</td>\n",
       "      <td>No</td>\n",
       "      <td>No</td>\n",
       "      <td>DSL</td>\n",
       "      <td>Yes</td>\n",
       "      <td>Yes</td>\n",
       "      <td>No</td>\n",
       "      <td>No</td>\n",
       "      <td>No</td>\n",
       "      <td>No</td>\n",
       "      <td>No</td>\n",
       "    </tr>\n",
       "    <tr>\n",
       "      <th>3</th>\n",
       "      <td>7795-CFOCW</td>\n",
       "      <td>2016-05-01</td>\n",
       "      <td>No</td>\n",
       "      <td>One year</td>\n",
       "      <td>No</td>\n",
       "      <td>Bank transfer (automatic)</td>\n",
       "      <td>42.30</td>\n",
       "      <td>1840.75</td>\n",
       "      <td>Male</td>\n",
       "      <td>0</td>\n",
       "      <td>No</td>\n",
       "      <td>No</td>\n",
       "      <td>DSL</td>\n",
       "      <td>Yes</td>\n",
       "      <td>No</td>\n",
       "      <td>Yes</td>\n",
       "      <td>Yes</td>\n",
       "      <td>No</td>\n",
       "      <td>No</td>\n",
       "      <td>NaN</td>\n",
       "    </tr>\n",
       "    <tr>\n",
       "      <th>4</th>\n",
       "      <td>9237-HQITU</td>\n",
       "      <td>2019-09-01</td>\n",
       "      <td>2019-11-01 00:00:00</td>\n",
       "      <td>Month-to-month</td>\n",
       "      <td>Yes</td>\n",
       "      <td>Electronic check</td>\n",
       "      <td>70.70</td>\n",
       "      <td>151.65</td>\n",
       "      <td>Female</td>\n",
       "      <td>0</td>\n",
       "      <td>No</td>\n",
       "      <td>No</td>\n",
       "      <td>Fiber optic</td>\n",
       "      <td>No</td>\n",
       "      <td>No</td>\n",
       "      <td>No</td>\n",
       "      <td>No</td>\n",
       "      <td>No</td>\n",
       "      <td>No</td>\n",
       "      <td>No</td>\n",
       "    </tr>\n",
       "  </tbody>\n",
       "</table>\n",
       "</div>"
      ],
      "text/plain": [
       "   customerID   BeginDate              EndDate            Type  \\\n",
       "0  7590-VHVEG  2020-01-01                   No  Month-to-month   \n",
       "1  5575-GNVDE  2017-04-01                   No        One year   \n",
       "2  3668-QPYBK  2019-10-01  2019-12-01 00:00:00  Month-to-month   \n",
       "3  7795-CFOCW  2016-05-01                   No        One year   \n",
       "4  9237-HQITU  2019-09-01  2019-11-01 00:00:00  Month-to-month   \n",
       "\n",
       "  PaperlessBilling              PaymentMethod  MonthlyCharges TotalCharges  \\\n",
       "0              Yes           Electronic check           29.85        29.85   \n",
       "1               No               Mailed check           56.95       1889.5   \n",
       "2              Yes               Mailed check           53.85       108.15   \n",
       "3               No  Bank transfer (automatic)           42.30      1840.75   \n",
       "4              Yes           Electronic check           70.70       151.65   \n",
       "\n",
       "   gender  SeniorCitizen Partner Dependents InternetService OnlineSecurity  \\\n",
       "0  Female              0     Yes         No             DSL             No   \n",
       "1    Male              0      No         No             DSL            Yes   \n",
       "2    Male              0      No         No             DSL            Yes   \n",
       "3    Male              0      No         No             DSL            Yes   \n",
       "4  Female              0      No         No     Fiber optic             No   \n",
       "\n",
       "  OnlineBackup DeviceProtection TechSupport StreamingTV StreamingMovies  \\\n",
       "0          Yes               No          No          No              No   \n",
       "1           No              Yes          No          No              No   \n",
       "2          Yes               No          No          No              No   \n",
       "3           No              Yes         Yes          No              No   \n",
       "4           No               No          No          No              No   \n",
       "\n",
       "  MultipleLines  \n",
       "0           NaN  \n",
       "1            No  \n",
       "2            No  \n",
       "3           NaN  \n",
       "4            No  "
      ]
     },
     "execution_count": 5,
     "metadata": {},
     "output_type": "execute_result"
    }
   ],
   "source": [
    "# Start with contract as source (7043 customers)\n",
    "df = contract.merge(personal, on='customerID')\n",
    "\n",
    "# Merge optional services using left joins\n",
    "df = df.merge(internet, on='customerID', how='left')\n",
    "df = df.merge(phone, on='customerID', how='left')\n",
    "\n",
    "# Check merged data\n",
    "print(df.shape)\n",
    "df.head()\n"
   ]
  },
  {
   "cell_type": "code",
   "execution_count": 6,
   "id": "8d278d72",
   "metadata": {},
   "outputs": [
    {
     "name": "stdout",
     "output_type": "stream",
     "text": [
      "<class 'pandas.core.frame.DataFrame'>\n",
      "RangeIndex: 7043 entries, 0 to 7042\n",
      "Data columns (total 20 columns):\n",
      " #   Column            Non-Null Count  Dtype  \n",
      "---  ------            --------------  -----  \n",
      " 0   customerID        7043 non-null   object \n",
      " 1   BeginDate         7043 non-null   object \n",
      " 2   EndDate           7043 non-null   object \n",
      " 3   Type              7043 non-null   object \n",
      " 4   PaperlessBilling  7043 non-null   object \n",
      " 5   PaymentMethod     7043 non-null   object \n",
      " 6   MonthlyCharges    7043 non-null   float64\n",
      " 7   TotalCharges      7043 non-null   object \n",
      " 8   gender            7043 non-null   object \n",
      " 9   SeniorCitizen     7043 non-null   int64  \n",
      " 10  Partner           7043 non-null   object \n",
      " 11  Dependents        7043 non-null   object \n",
      " 12  InternetService   5517 non-null   object \n",
      " 13  OnlineSecurity    5517 non-null   object \n",
      " 14  OnlineBackup      5517 non-null   object \n",
      " 15  DeviceProtection  5517 non-null   object \n",
      " 16  TechSupport       5517 non-null   object \n",
      " 17  StreamingTV       5517 non-null   object \n",
      " 18  StreamingMovies   5517 non-null   object \n",
      " 19  MultipleLines     6361 non-null   object \n",
      "dtypes: float64(1), int64(1), object(18)\n",
      "memory usage: 1.1+ MB\n"
     ]
    }
   ],
   "source": [
    "df.info()"
   ]
  },
  {
   "cell_type": "code",
   "execution_count": 7,
   "id": "14f5c0ec",
   "metadata": {
    "scrolled": true
   },
   "outputs": [
    {
     "data": {
      "text/plain": [
       "SeniorCitizen          2\n",
       "StreamingTV            2\n",
       "TechSupport            2\n",
       "DeviceProtection       2\n",
       "OnlineBackup           2\n",
       "OnlineSecurity         2\n",
       "InternetService        2\n",
       "Dependents             2\n",
       "Partner                2\n",
       "MultipleLines          2\n",
       "gender                 2\n",
       "PaperlessBilling       2\n",
       "StreamingMovies        2\n",
       "Type                   3\n",
       "PaymentMethod          4\n",
       "EndDate                5\n",
       "BeginDate             77\n",
       "MonthlyCharges      1585\n",
       "TotalCharges        6531\n",
       "customerID          7043\n",
       "dtype: int64"
      ]
     },
     "execution_count": 7,
     "metadata": {},
     "output_type": "execute_result"
    }
   ],
   "source": [
    "# Count of unique values per column\n",
    "df.nunique().sort_values()"
   ]
  },
  {
   "cell_type": "markdown",
   "id": "0068d1f0",
   "metadata": {},
   "source": [
    "### Data clean-up ideas\n",
    "\n",
    "- `BeginDate` is an `object` type. This will need to be converted to `datetime` in the preprocessing stage in order to extract features like customer tenure or cancellation date.\n",
    "- `EndDate` is also an `object` type, but this is our target and contains mixed values. \n",
    "- `'TotalCharges'` appears as object type, suggesting it may need to be converted to numeric.\n",
    "\n",
    "- Internet- and phone-related columns have missing values due to optional service usage.\n",
    "- We could make all of the column names lowercase."
   ]
  },
  {
   "cell_type": "code",
   "execution_count": 8,
   "id": "f764cc01",
   "metadata": {
    "scrolled": false
   },
   "outputs": [
    {
     "data": {
      "text/plain": [
       "customerID             0\n",
       "BeginDate              0\n",
       "EndDate                0\n",
       "Type                   0\n",
       "PaperlessBilling       0\n",
       "PaymentMethod          0\n",
       "MonthlyCharges         0\n",
       "TotalCharges           0\n",
       "gender                 0\n",
       "SeniorCitizen          0\n",
       "Partner                0\n",
       "Dependents             0\n",
       "InternetService     1526\n",
       "OnlineSecurity      1526\n",
       "OnlineBackup        1526\n",
       "DeviceProtection    1526\n",
       "TechSupport         1526\n",
       "StreamingTV         1526\n",
       "StreamingMovies     1526\n",
       "MultipleLines        682\n",
       "dtype: int64"
      ]
     },
     "execution_count": 8,
     "metadata": {},
     "output_type": "execute_result"
    }
   ],
   "source": [
    "# Check for missing values (we know there will be b/c of Internet and Phone service)\n",
    "df.isnull().sum()"
   ]
  },
  {
   "cell_type": "code",
   "execution_count": 9,
   "id": "2f170ebe",
   "metadata": {},
   "outputs": [
    {
     "data": {
      "text/plain": [
       "0"
      ]
     },
     "execution_count": 9,
     "metadata": {},
     "output_type": "execute_result"
    }
   ],
   "source": [
    "# Check for duplicates\n",
    "df.duplicated().sum()"
   ]
  },
  {
   "cell_type": "code",
   "execution_count": 10,
   "id": "94bb5a9f",
   "metadata": {
    "scrolled": true
   },
   "outputs": [
    {
     "data": {
      "text/html": [
       "<div>\n",
       "<style scoped>\n",
       "    .dataframe tbody tr th:only-of-type {\n",
       "        vertical-align: middle;\n",
       "    }\n",
       "\n",
       "    .dataframe tbody tr th {\n",
       "        vertical-align: top;\n",
       "    }\n",
       "\n",
       "    .dataframe thead th {\n",
       "        text-align: right;\n",
       "    }\n",
       "</style>\n",
       "<table border=\"1\" class=\"dataframe\">\n",
       "  <thead>\n",
       "    <tr style=\"text-align: right;\">\n",
       "      <th></th>\n",
       "      <th>MonthlyCharges</th>\n",
       "      <th>SeniorCitizen</th>\n",
       "    </tr>\n",
       "  </thead>\n",
       "  <tbody>\n",
       "    <tr>\n",
       "      <th>count</th>\n",
       "      <td>7043.000000</td>\n",
       "      <td>7043.000000</td>\n",
       "    </tr>\n",
       "    <tr>\n",
       "      <th>mean</th>\n",
       "      <td>64.761692</td>\n",
       "      <td>0.162147</td>\n",
       "    </tr>\n",
       "    <tr>\n",
       "      <th>std</th>\n",
       "      <td>30.090047</td>\n",
       "      <td>0.368612</td>\n",
       "    </tr>\n",
       "    <tr>\n",
       "      <th>min</th>\n",
       "      <td>18.250000</td>\n",
       "      <td>0.000000</td>\n",
       "    </tr>\n",
       "    <tr>\n",
       "      <th>25%</th>\n",
       "      <td>35.500000</td>\n",
       "      <td>0.000000</td>\n",
       "    </tr>\n",
       "    <tr>\n",
       "      <th>50%</th>\n",
       "      <td>70.350000</td>\n",
       "      <td>0.000000</td>\n",
       "    </tr>\n",
       "    <tr>\n",
       "      <th>75%</th>\n",
       "      <td>89.850000</td>\n",
       "      <td>0.000000</td>\n",
       "    </tr>\n",
       "    <tr>\n",
       "      <th>max</th>\n",
       "      <td>118.750000</td>\n",
       "      <td>1.000000</td>\n",
       "    </tr>\n",
       "  </tbody>\n",
       "</table>\n",
       "</div>"
      ],
      "text/plain": [
       "       MonthlyCharges  SeniorCitizen\n",
       "count     7043.000000    7043.000000\n",
       "mean        64.761692       0.162147\n",
       "std         30.090047       0.368612\n",
       "min         18.250000       0.000000\n",
       "25%         35.500000       0.000000\n",
       "50%         70.350000       0.000000\n",
       "75%         89.850000       0.000000\n",
       "max        118.750000       1.000000"
      ]
     },
     "execution_count": 10,
     "metadata": {},
     "output_type": "execute_result"
    }
   ],
   "source": [
    "# Summary stats\n",
    "df.describe()"
   ]
  },
  {
   "cell_type": "code",
   "execution_count": 11,
   "id": "c49001ca",
   "metadata": {},
   "outputs": [
    {
     "data": {
      "text/plain": [
       "['customerID',\n",
       " 'BeginDate',\n",
       " 'EndDate',\n",
       " 'Type',\n",
       " 'PaperlessBilling',\n",
       " 'PaymentMethod',\n",
       " 'MonthlyCharges',\n",
       " 'TotalCharges',\n",
       " 'gender',\n",
       " 'SeniorCitizen',\n",
       " 'Partner',\n",
       " 'Dependents',\n",
       " 'InternetService',\n",
       " 'OnlineSecurity',\n",
       " 'OnlineBackup',\n",
       " 'DeviceProtection',\n",
       " 'TechSupport',\n",
       " 'StreamingTV',\n",
       " 'StreamingMovies',\n",
       " 'MultipleLines']"
      ]
     },
     "execution_count": 11,
     "metadata": {},
     "output_type": "execute_result"
    }
   ],
   "source": [
    "# Exploring the categorical columns\n",
    "df.columns.to_list()"
   ]
  },
  {
   "cell_type": "code",
   "execution_count": 12,
   "id": "b2893e74",
   "metadata": {},
   "outputs": [
    {
     "name": "stdout",
     "output_type": "stream",
     "text": [
      "\n",
      "Type (3 unique):\n",
      "Type\n",
      "Month-to-month    3875\n",
      "Two year          1695\n",
      "One year          1473\n",
      "Name: count, dtype: int64\n",
      "\n",
      "PaperlessBilling (2 unique):\n",
      "PaperlessBilling\n",
      "Yes    4171\n",
      "No     2872\n",
      "Name: count, dtype: int64\n",
      "\n",
      "PaymentMethod (4 unique):\n",
      "PaymentMethod\n",
      "Electronic check             2365\n",
      "Mailed check                 1612\n",
      "Bank transfer (automatic)    1544\n",
      "Credit card (automatic)      1522\n",
      "Name: count, dtype: int64\n",
      "\n",
      "gender (2 unique):\n",
      "gender\n",
      "Male      3555\n",
      "Female    3488\n",
      "Name: count, dtype: int64\n",
      "\n",
      "Partner (2 unique):\n",
      "Partner\n",
      "No     3641\n",
      "Yes    3402\n",
      "Name: count, dtype: int64\n",
      "\n",
      "Dependents (2 unique):\n",
      "Dependents\n",
      "No     4933\n",
      "Yes    2110\n",
      "Name: count, dtype: int64\n",
      "\n",
      "InternetService (2 unique):\n",
      "InternetService\n",
      "Fiber optic    3096\n",
      "DSL            2421\n",
      "NaN            1526\n",
      "Name: count, dtype: int64\n",
      "\n",
      "OnlineSecurity (2 unique):\n",
      "OnlineSecurity\n",
      "No     3498\n",
      "Yes    2019\n",
      "NaN    1526\n",
      "Name: count, dtype: int64\n",
      "\n",
      "OnlineBackup (2 unique):\n",
      "OnlineBackup\n",
      "No     3088\n",
      "Yes    2429\n",
      "NaN    1526\n",
      "Name: count, dtype: int64\n",
      "\n",
      "DeviceProtection (2 unique):\n",
      "DeviceProtection\n",
      "No     3095\n",
      "Yes    2422\n",
      "NaN    1526\n",
      "Name: count, dtype: int64\n",
      "\n",
      "TechSupport (2 unique):\n",
      "TechSupport\n",
      "No     3473\n",
      "Yes    2044\n",
      "NaN    1526\n",
      "Name: count, dtype: int64\n",
      "\n",
      "StreamingTV (2 unique):\n",
      "StreamingTV\n",
      "No     2810\n",
      "Yes    2707\n",
      "NaN    1526\n",
      "Name: count, dtype: int64\n",
      "\n",
      "StreamingMovies (2 unique):\n",
      "StreamingMovies\n",
      "No     2785\n",
      "Yes    2732\n",
      "NaN    1526\n",
      "Name: count, dtype: int64\n",
      "\n",
      "MultipleLines (2 unique):\n",
      "MultipleLines\n",
      "No     3390\n",
      "Yes    2971\n",
      "NaN     682\n",
      "Name: count, dtype: int64\n"
     ]
    }
   ],
   "source": [
    "# Categorical columns\n",
    "cat_cols = ['Type', 'PaperlessBilling', 'PaymentMethod', 'gender', 'Partner',\n",
    " 'Dependents', 'InternetService', 'OnlineSecurity', 'OnlineBackup', 'DeviceProtection', 'TechSupport', 'StreamingTV',\n",
    " 'StreamingMovies', 'MultipleLines'\n",
    "]\n",
    "\n",
    "for col in cat_cols:\n",
    "    print(f\"\\n{col} ({df[col].nunique()} unique):\")\n",
    "    print(df[col].value_counts(dropna=False))"
   ]
  },
  {
   "cell_type": "markdown",
   "id": "bb92c86c",
   "metadata": {},
   "source": [
    "### Column Exploration Summary\n",
    "\n",
    "Based on `.info()`, `.nunique()`, and value count inspection, the following columns have been identified as categorical features:\n",
    "\n",
    "Categorical columns with **no missing values**:\n",
    "- `Type`: contract type — values include `'Month-to-month'`, `'One year'`, `'Two year'`\n",
    "- `PaperlessBilling`: binary — `'Yes'`, `'No'`\n",
    "- `PaymentMethod`: nominal — 4 payment methods\n",
    "- `gender`: binary — `'Male'`, `'Female'`\n",
    "- `Partner`: binary — `'Yes'`, `'No'`\n",
    "- `Dependents`: binary — `'Yes'`, `'No'`\n",
    "\n",
    "Categorical columns with **missing values** to be addressed:\n",
    "\n",
    "- `InternetService`: nominal — `'DSL'`, `'Fiber optic'`, `NaN` (likely no internet service)\n",
    "- `OnlineSecurity`: binary — `'Yes'`, `'No'`, `NaN`\n",
    "- `OnlineBackup`: binary — `'Yes'`, `'No'`, `NaN`\n",
    "- `DeviceProtection`: binary — `'Yes'`, `'No'`, `NaN`\n",
    "- `TechSupport`: binary — `'Yes'`, `'No'`, `NaN`\n",
    "- `StreamingTV`: binary — `'Yes'`, `'No'`, `NaN`\n",
    "- `StreamingMovies`: binary — `'Yes'`, `'No'`, `NaN`\n",
    "- `MultipleLines`: binary — `'Yes'`, `'No'`, `NaN` (may indicate no phone service)\n",
    "\n",
    "These missing values appear to follow a pattern (e.g., services not available due to no internet or phone service) and will be handled accordingly in the preprocessing steps.\n",
    "\n",
    "- The `InternetService` and service columns all have 1526 missing values\n",
    "- `MultipleLines` has 682 missing values. \n",
    "\n",
    "This strongly suggests:\n",
    "- Customers with missing `InternetService` don't use internet — the rest of their service fields are empty for that reason\n",
    "- Missing `MultipleLines` likely means no phone service\n",
    "\n",
    "\n",
    "> Note: The column `customerID` is excluded from analysis as the values are identifiers and not meaningful features.\n"
   ]
  },
  {
   "cell_type": "markdown",
   "id": "0e433322",
   "metadata": {},
   "source": [
    "# Preprocessing"
   ]
  },
  {
   "cell_type": "markdown",
   "id": "cb7f4cd6",
   "metadata": {},
   "source": [
    "## Create the Target column\n",
    "\n",
    "Create binary churn target column:\n",
    "- target: 1 = customer is active, \n",
    "- 0 = churned"
   ]
  },
  {
   "cell_type": "code",
   "execution_count": 13,
   "id": "edcd40ab",
   "metadata": {},
   "outputs": [],
   "source": [
    "# Create binary churn target: 1 = customer is active, 0 = churned\n",
    "df['churn'] = (df['EndDate'] == 'No').astype(int)"
   ]
  },
  {
   "cell_type": "markdown",
   "id": "7ce64389",
   "metadata": {},
   "source": [
    "## Convert column names to lowercase"
   ]
  },
  {
   "cell_type": "code",
   "execution_count": 14,
   "id": "4d154d8e",
   "metadata": {},
   "outputs": [],
   "source": [
    "df.columns = df.columns.str.lower()"
   ]
  },
  {
   "cell_type": "markdown",
   "id": "482dcc9d",
   "metadata": {},
   "source": [
    "## Convert Column Data Types"
   ]
  },
  {
   "cell_type": "code",
   "execution_count": 15,
   "id": "b8379586",
   "metadata": {
    "scrolled": false
   },
   "outputs": [
    {
     "name": "stdout",
     "output_type": "stream",
     "text": [
      "<class 'pandas.core.frame.DataFrame'>\n",
      "RangeIndex: 7043 entries, 0 to 7042\n",
      "Data columns (total 21 columns):\n",
      " #   Column            Non-Null Count  Dtype  \n",
      "---  ------            --------------  -----  \n",
      " 0   customerid        7043 non-null   object \n",
      " 1   begindate         7043 non-null   object \n",
      " 2   enddate           7043 non-null   object \n",
      " 3   type              7043 non-null   object \n",
      " 4   paperlessbilling  7043 non-null   object \n",
      " 5   paymentmethod     7043 non-null   object \n",
      " 6   monthlycharges    7043 non-null   float64\n",
      " 7   totalcharges      7043 non-null   object \n",
      " 8   gender            7043 non-null   object \n",
      " 9   seniorcitizen     7043 non-null   int64  \n",
      " 10  partner           7043 non-null   object \n",
      " 11  dependents        7043 non-null   object \n",
      " 12  internetservice   5517 non-null   object \n",
      " 13  onlinesecurity    5517 non-null   object \n",
      " 14  onlinebackup      5517 non-null   object \n",
      " 15  deviceprotection  5517 non-null   object \n",
      " 16  techsupport       5517 non-null   object \n",
      " 17  streamingtv       5517 non-null   object \n",
      " 18  streamingmovies   5517 non-null   object \n",
      " 19  multiplelines     6361 non-null   object \n",
      " 20  churn             7043 non-null   int64  \n",
      "dtypes: float64(1), int64(2), object(18)\n",
      "memory usage: 1.1+ MB\n"
     ]
    }
   ],
   "source": [
    "df.info()"
   ]
  },
  {
   "cell_type": "code",
   "execution_count": 16,
   "id": "9bef9cba",
   "metadata": {},
   "outputs": [],
   "source": [
    "# Convert columns\n",
    "df['begindate'] = pd.to_datetime(df['begindate'], errors='coerce')\n",
    "df['enddate'] = pd.to_datetime(df['enddate'], errors='coerce')\n",
    "df['totalcharges'] = pd.to_numeric(df['totalcharges'], errors='coerce')"
   ]
  },
  {
   "cell_type": "code",
   "execution_count": 17,
   "id": "cca8b489",
   "metadata": {
    "scrolled": true
   },
   "outputs": [
    {
     "name": "stdout",
     "output_type": "stream",
     "text": [
      "<class 'pandas.core.frame.DataFrame'>\n",
      "RangeIndex: 7043 entries, 0 to 7042\n",
      "Data columns (total 21 columns):\n",
      " #   Column            Non-Null Count  Dtype         \n",
      "---  ------            --------------  -----         \n",
      " 0   customerid        7043 non-null   object        \n",
      " 1   begindate         7043 non-null   datetime64[ns]\n",
      " 2   enddate           1869 non-null   datetime64[ns]\n",
      " 3   type              7043 non-null   object        \n",
      " 4   paperlessbilling  7043 non-null   object        \n",
      " 5   paymentmethod     7043 non-null   object        \n",
      " 6   monthlycharges    7043 non-null   float64       \n",
      " 7   totalcharges      7032 non-null   float64       \n",
      " 8   gender            7043 non-null   object        \n",
      " 9   seniorcitizen     7043 non-null   int64         \n",
      " 10  partner           7043 non-null   object        \n",
      " 11  dependents        7043 non-null   object        \n",
      " 12  internetservice   5517 non-null   object        \n",
      " 13  onlinesecurity    5517 non-null   object        \n",
      " 14  onlinebackup      5517 non-null   object        \n",
      " 15  deviceprotection  5517 non-null   object        \n",
      " 16  techsupport       5517 non-null   object        \n",
      " 17  streamingtv       5517 non-null   object        \n",
      " 18  streamingmovies   5517 non-null   object        \n",
      " 19  multiplelines     6361 non-null   object        \n",
      " 20  churn             7043 non-null   int64         \n",
      "dtypes: datetime64[ns](2), float64(2), int64(2), object(15)\n",
      "memory usage: 1.1+ MB\n"
     ]
    }
   ],
   "source": [
    "# Check our work\n",
    "df.info()"
   ]
  },
  {
   "cell_type": "code",
   "execution_count": 18,
   "id": "5fb80ff0",
   "metadata": {
    "scrolled": true
   },
   "outputs": [
    {
     "data": {
      "text/html": [
       "<div>\n",
       "<style scoped>\n",
       "    .dataframe tbody tr th:only-of-type {\n",
       "        vertical-align: middle;\n",
       "    }\n",
       "\n",
       "    .dataframe tbody tr th {\n",
       "        vertical-align: top;\n",
       "    }\n",
       "\n",
       "    .dataframe thead th {\n",
       "        text-align: right;\n",
       "    }\n",
       "</style>\n",
       "<table border=\"1\" class=\"dataframe\">\n",
       "  <thead>\n",
       "    <tr style=\"text-align: right;\">\n",
       "      <th></th>\n",
       "      <th>customerid</th>\n",
       "      <th>begindate</th>\n",
       "      <th>enddate</th>\n",
       "      <th>type</th>\n",
       "      <th>paperlessbilling</th>\n",
       "      <th>paymentmethod</th>\n",
       "      <th>monthlycharges</th>\n",
       "      <th>totalcharges</th>\n",
       "      <th>gender</th>\n",
       "      <th>seniorcitizen</th>\n",
       "      <th>...</th>\n",
       "      <th>dependents</th>\n",
       "      <th>internetservice</th>\n",
       "      <th>onlinesecurity</th>\n",
       "      <th>onlinebackup</th>\n",
       "      <th>deviceprotection</th>\n",
       "      <th>techsupport</th>\n",
       "      <th>streamingtv</th>\n",
       "      <th>streamingmovies</th>\n",
       "      <th>multiplelines</th>\n",
       "      <th>churn</th>\n",
       "    </tr>\n",
       "  </thead>\n",
       "  <tbody>\n",
       "    <tr>\n",
       "      <th>0</th>\n",
       "      <td>7590-VHVEG</td>\n",
       "      <td>2020-01-01</td>\n",
       "      <td>NaT</td>\n",
       "      <td>Month-to-month</td>\n",
       "      <td>Yes</td>\n",
       "      <td>Electronic check</td>\n",
       "      <td>29.85</td>\n",
       "      <td>29.85</td>\n",
       "      <td>Female</td>\n",
       "      <td>0</td>\n",
       "      <td>...</td>\n",
       "      <td>No</td>\n",
       "      <td>DSL</td>\n",
       "      <td>No</td>\n",
       "      <td>Yes</td>\n",
       "      <td>No</td>\n",
       "      <td>No</td>\n",
       "      <td>No</td>\n",
       "      <td>No</td>\n",
       "      <td>NaN</td>\n",
       "      <td>1</td>\n",
       "    </tr>\n",
       "    <tr>\n",
       "      <th>1</th>\n",
       "      <td>5575-GNVDE</td>\n",
       "      <td>2017-04-01</td>\n",
       "      <td>NaT</td>\n",
       "      <td>One year</td>\n",
       "      <td>No</td>\n",
       "      <td>Mailed check</td>\n",
       "      <td>56.95</td>\n",
       "      <td>1889.50</td>\n",
       "      <td>Male</td>\n",
       "      <td>0</td>\n",
       "      <td>...</td>\n",
       "      <td>No</td>\n",
       "      <td>DSL</td>\n",
       "      <td>Yes</td>\n",
       "      <td>No</td>\n",
       "      <td>Yes</td>\n",
       "      <td>No</td>\n",
       "      <td>No</td>\n",
       "      <td>No</td>\n",
       "      <td>No</td>\n",
       "      <td>1</td>\n",
       "    </tr>\n",
       "    <tr>\n",
       "      <th>2</th>\n",
       "      <td>3668-QPYBK</td>\n",
       "      <td>2019-10-01</td>\n",
       "      <td>2019-12-01</td>\n",
       "      <td>Month-to-month</td>\n",
       "      <td>Yes</td>\n",
       "      <td>Mailed check</td>\n",
       "      <td>53.85</td>\n",
       "      <td>108.15</td>\n",
       "      <td>Male</td>\n",
       "      <td>0</td>\n",
       "      <td>...</td>\n",
       "      <td>No</td>\n",
       "      <td>DSL</td>\n",
       "      <td>Yes</td>\n",
       "      <td>Yes</td>\n",
       "      <td>No</td>\n",
       "      <td>No</td>\n",
       "      <td>No</td>\n",
       "      <td>No</td>\n",
       "      <td>No</td>\n",
       "      <td>0</td>\n",
       "    </tr>\n",
       "    <tr>\n",
       "      <th>3</th>\n",
       "      <td>7795-CFOCW</td>\n",
       "      <td>2016-05-01</td>\n",
       "      <td>NaT</td>\n",
       "      <td>One year</td>\n",
       "      <td>No</td>\n",
       "      <td>Bank transfer (automatic)</td>\n",
       "      <td>42.30</td>\n",
       "      <td>1840.75</td>\n",
       "      <td>Male</td>\n",
       "      <td>0</td>\n",
       "      <td>...</td>\n",
       "      <td>No</td>\n",
       "      <td>DSL</td>\n",
       "      <td>Yes</td>\n",
       "      <td>No</td>\n",
       "      <td>Yes</td>\n",
       "      <td>Yes</td>\n",
       "      <td>No</td>\n",
       "      <td>No</td>\n",
       "      <td>NaN</td>\n",
       "      <td>1</td>\n",
       "    </tr>\n",
       "    <tr>\n",
       "      <th>4</th>\n",
       "      <td>9237-HQITU</td>\n",
       "      <td>2019-09-01</td>\n",
       "      <td>2019-11-01</td>\n",
       "      <td>Month-to-month</td>\n",
       "      <td>Yes</td>\n",
       "      <td>Electronic check</td>\n",
       "      <td>70.70</td>\n",
       "      <td>151.65</td>\n",
       "      <td>Female</td>\n",
       "      <td>0</td>\n",
       "      <td>...</td>\n",
       "      <td>No</td>\n",
       "      <td>Fiber optic</td>\n",
       "      <td>No</td>\n",
       "      <td>No</td>\n",
       "      <td>No</td>\n",
       "      <td>No</td>\n",
       "      <td>No</td>\n",
       "      <td>No</td>\n",
       "      <td>No</td>\n",
       "      <td>0</td>\n",
       "    </tr>\n",
       "  </tbody>\n",
       "</table>\n",
       "<p>5 rows × 21 columns</p>\n",
       "</div>"
      ],
      "text/plain": [
       "   customerid  begindate    enddate            type paperlessbilling  \\\n",
       "0  7590-VHVEG 2020-01-01        NaT  Month-to-month              Yes   \n",
       "1  5575-GNVDE 2017-04-01        NaT        One year               No   \n",
       "2  3668-QPYBK 2019-10-01 2019-12-01  Month-to-month              Yes   \n",
       "3  7795-CFOCW 2016-05-01        NaT        One year               No   \n",
       "4  9237-HQITU 2019-09-01 2019-11-01  Month-to-month              Yes   \n",
       "\n",
       "               paymentmethod  monthlycharges  totalcharges  gender  \\\n",
       "0           Electronic check           29.85         29.85  Female   \n",
       "1               Mailed check           56.95       1889.50    Male   \n",
       "2               Mailed check           53.85        108.15    Male   \n",
       "3  Bank transfer (automatic)           42.30       1840.75    Male   \n",
       "4           Electronic check           70.70        151.65  Female   \n",
       "\n",
       "   seniorcitizen  ... dependents internetservice onlinesecurity onlinebackup  \\\n",
       "0              0  ...         No             DSL             No          Yes   \n",
       "1              0  ...         No             DSL            Yes           No   \n",
       "2              0  ...         No             DSL            Yes          Yes   \n",
       "3              0  ...         No             DSL            Yes           No   \n",
       "4              0  ...         No     Fiber optic             No           No   \n",
       "\n",
       "  deviceprotection techsupport streamingtv streamingmovies multiplelines churn  \n",
       "0               No          No          No              No           NaN     1  \n",
       "1              Yes          No          No              No            No     1  \n",
       "2               No          No          No              No            No     0  \n",
       "3              Yes         Yes          No              No           NaN     1  \n",
       "4               No          No          No              No            No     0  \n",
       "\n",
       "[5 rows x 21 columns]"
      ]
     },
     "execution_count": 18,
     "metadata": {},
     "output_type": "execute_result"
    }
   ],
   "source": [
    "df.head()"
   ]
  },
  {
   "cell_type": "markdown",
   "id": "2234edd2",
   "metadata": {},
   "source": [
    "## Address Missing Values"
   ]
  },
  {
   "cell_type": "markdown",
   "id": "9d947d6e",
   "metadata": {},
   "source": [
    "We're looking to understand why there are missing values in the columns we identified and whether they reflect a logical condition like not having Internet or phone service. "
   ]
  },
  {
   "cell_type": "code",
   "execution_count": 19,
   "id": "a7d3dc69",
   "metadata": {
    "scrolled": true
   },
   "outputs": [
    {
     "data": {
      "text/plain": [
       "enddate             5174\n",
       "totalcharges          11\n",
       "internetservice     1526\n",
       "onlinesecurity      1526\n",
       "onlinebackup        1526\n",
       "deviceprotection    1526\n",
       "techsupport         1526\n",
       "streamingtv         1526\n",
       "streamingmovies     1526\n",
       "multiplelines        682\n",
       "dtype: int64"
      ]
     },
     "execution_count": 19,
     "metadata": {},
     "output_type": "execute_result"
    }
   ],
   "source": [
    "# Zoom in on columns with missing values\n",
    "missing = df.isnull().sum()\n",
    "missing[missing > 0]"
   ]
  },
  {
   "cell_type": "markdown",
   "id": "8b19ad5e",
   "metadata": {},
   "source": [
    "Are the same customers missing all of the internet service values? Let's see if they all have NaN values."
   ]
  },
  {
   "cell_type": "code",
   "execution_count": 20,
   "id": "8e0d5486",
   "metadata": {
    "scrolled": true
   },
   "outputs": [
    {
     "data": {
      "text/html": [
       "<div>\n",
       "<style scoped>\n",
       "    .dataframe tbody tr th:only-of-type {\n",
       "        vertical-align: middle;\n",
       "    }\n",
       "\n",
       "    .dataframe tbody tr th {\n",
       "        vertical-align: top;\n",
       "    }\n",
       "\n",
       "    .dataframe thead th {\n",
       "        text-align: right;\n",
       "    }\n",
       "</style>\n",
       "<table border=\"1\" class=\"dataframe\">\n",
       "  <thead>\n",
       "    <tr style=\"text-align: right;\">\n",
       "      <th></th>\n",
       "      <th>onlinesecurity</th>\n",
       "      <th>onlinebackup</th>\n",
       "      <th>techsupport</th>\n",
       "    </tr>\n",
       "  </thead>\n",
       "  <tbody>\n",
       "    <tr>\n",
       "      <th>11</th>\n",
       "      <td>NaN</td>\n",
       "      <td>NaN</td>\n",
       "      <td>NaN</td>\n",
       "    </tr>\n",
       "    <tr>\n",
       "      <th>16</th>\n",
       "      <td>NaN</td>\n",
       "      <td>NaN</td>\n",
       "      <td>NaN</td>\n",
       "    </tr>\n",
       "    <tr>\n",
       "      <th>21</th>\n",
       "      <td>NaN</td>\n",
       "      <td>NaN</td>\n",
       "      <td>NaN</td>\n",
       "    </tr>\n",
       "    <tr>\n",
       "      <th>22</th>\n",
       "      <td>NaN</td>\n",
       "      <td>NaN</td>\n",
       "      <td>NaN</td>\n",
       "    </tr>\n",
       "    <tr>\n",
       "      <th>33</th>\n",
       "      <td>NaN</td>\n",
       "      <td>NaN</td>\n",
       "      <td>NaN</td>\n",
       "    </tr>\n",
       "  </tbody>\n",
       "</table>\n",
       "</div>"
      ],
      "text/plain": [
       "   onlinesecurity onlinebackup techsupport\n",
       "11            NaN          NaN         NaN\n",
       "16            NaN          NaN         NaN\n",
       "21            NaN          NaN         NaN\n",
       "22            NaN          NaN         NaN\n",
       "33            NaN          NaN         NaN"
      ]
     },
     "execution_count": 20,
     "metadata": {},
     "output_type": "execute_result"
    }
   ],
   "source": [
    "# Filter just the rows where InternetService is missing\n",
    "internet_na = df[df['internetservice'].isna()]\n",
    "\n",
    "# View a few rows\n",
    "internet_na[['onlinesecurity', 'onlinebackup', 'techsupport']].head()"
   ]
  },
  {
   "cell_type": "code",
   "execution_count": 21,
   "id": "56d16ef0",
   "metadata": {},
   "outputs": [
    {
     "data": {
      "text/plain": [
       "1526"
      ]
     },
     "execution_count": 21,
     "metadata": {},
     "output_type": "execute_result"
    }
   ],
   "source": [
    "# How many customers have NaN values (expecting 1526)\n",
    "len(internet_na)"
   ]
  },
  {
   "cell_type": "markdown",
   "id": "faabe2e4",
   "metadata": {},
   "source": [
    "These rows likely represent customers **without internet service**. So, we'll fill the NaNs in with \"No Internet\""
   ]
  },
  {
   "cell_type": "code",
   "execution_count": 22,
   "id": "69feaa89",
   "metadata": {},
   "outputs": [],
   "source": [
    "# Replace Internet Service NaNs with 'No Internet'\n",
    "internet_cols = [\n",
    "    'internetservice', 'onlinesecurity', 'onlinebackup',\n",
    "    'deviceprotection', 'techsupport', 'streamingtv', 'streamingmovies'\n",
    "]\n",
    "\n",
    "df[internet_cols] = df[internet_cols].fillna('No internet')"
   ]
  },
  {
   "cell_type": "markdown",
   "id": "3aba3b66",
   "metadata": {},
   "source": [
    "Check if the NaNs in `multiplelines` means no phone service"
   ]
  },
  {
   "cell_type": "code",
   "execution_count": 23,
   "id": "166e39bf",
   "metadata": {
    "scrolled": true
   },
   "outputs": [
    {
     "data": {
      "text/html": [
       "<div>\n",
       "<style scoped>\n",
       "    .dataframe tbody tr th:only-of-type {\n",
       "        vertical-align: middle;\n",
       "    }\n",
       "\n",
       "    .dataframe tbody tr th {\n",
       "        vertical-align: top;\n",
       "    }\n",
       "\n",
       "    .dataframe thead th {\n",
       "        text-align: right;\n",
       "    }\n",
       "</style>\n",
       "<table border=\"1\" class=\"dataframe\">\n",
       "  <thead>\n",
       "    <tr style=\"text-align: right;\">\n",
       "      <th></th>\n",
       "      <th>multiplelines</th>\n",
       "    </tr>\n",
       "  </thead>\n",
       "  <tbody>\n",
       "    <tr>\n",
       "      <th>0</th>\n",
       "      <td>NaN</td>\n",
       "    </tr>\n",
       "    <tr>\n",
       "      <th>3</th>\n",
       "      <td>NaN</td>\n",
       "    </tr>\n",
       "    <tr>\n",
       "      <th>7</th>\n",
       "      <td>NaN</td>\n",
       "    </tr>\n",
       "    <tr>\n",
       "      <th>20</th>\n",
       "      <td>NaN</td>\n",
       "    </tr>\n",
       "    <tr>\n",
       "      <th>27</th>\n",
       "      <td>NaN</td>\n",
       "    </tr>\n",
       "  </tbody>\n",
       "</table>\n",
       "</div>"
      ],
      "text/plain": [
       "   multiplelines\n",
       "0            NaN\n",
       "3            NaN\n",
       "7            NaN\n",
       "20           NaN\n",
       "27           NaN"
      ]
     },
     "execution_count": 23,
     "metadata": {},
     "output_type": "execute_result"
    }
   ],
   "source": [
    "df[df['multiplelines'].isna()][['multiplelines']].head()"
   ]
  },
  {
   "cell_type": "code",
   "execution_count": 24,
   "id": "f4b00daf",
   "metadata": {
    "scrolled": true
   },
   "outputs": [
    {
     "data": {
      "text/plain": [
       "682"
      ]
     },
     "execution_count": 24,
     "metadata": {},
     "output_type": "execute_result"
    }
   ],
   "source": [
    "len(df[df['multiplelines'].isna()])"
   ]
  },
  {
   "cell_type": "markdown",
   "id": "4e0446ba",
   "metadata": {},
   "source": [
    "We'll replace the NaNs for `multiplelines` with \"No phone service\""
   ]
  },
  {
   "cell_type": "code",
   "execution_count": 25,
   "id": "2bc1adbe",
   "metadata": {},
   "outputs": [],
   "source": [
    "df['multiplelines'] = df['multiplelines'].fillna('No phone service')"
   ]
  },
  {
   "cell_type": "code",
   "execution_count": 26,
   "id": "bedb2f59",
   "metadata": {},
   "outputs": [],
   "source": [
    "# Check our work"
   ]
  },
  {
   "cell_type": "code",
   "execution_count": 27,
   "id": "1710e258",
   "metadata": {},
   "outputs": [
    {
     "data": {
      "text/plain": [
       "internetservice     0\n",
       "onlinesecurity      0\n",
       "onlinebackup        0\n",
       "deviceprotection    0\n",
       "techsupport         0\n",
       "streamingtv         0\n",
       "streamingmovies     0\n",
       "dtype: int64"
      ]
     },
     "execution_count": 27,
     "metadata": {},
     "output_type": "execute_result"
    }
   ],
   "source": [
    "# Expecting 0\n",
    "internet_cols = [\n",
    "    'internetservice', 'onlinesecurity', 'onlinebackup',\n",
    "    'deviceprotection', 'techsupport', 'streamingtv', 'streamingmovies'\n",
    "]\n",
    "\n",
    "df[internet_cols].isnull().sum()\n"
   ]
  },
  {
   "cell_type": "code",
   "execution_count": 28,
   "id": "082427cf",
   "metadata": {},
   "outputs": [
    {
     "name": "stdout",
     "output_type": "stream",
     "text": [
      "\n",
      "internetservice value counts:\n",
      "internetservice\n",
      "Fiber optic    3096\n",
      "DSL            2421\n",
      "No internet    1526\n",
      "Name: count, dtype: int64\n",
      "\n",
      "onlinesecurity value counts:\n",
      "onlinesecurity\n",
      "No             3498\n",
      "Yes            2019\n",
      "No internet    1526\n",
      "Name: count, dtype: int64\n",
      "\n",
      "onlinebackup value counts:\n",
      "onlinebackup\n",
      "No             3088\n",
      "Yes            2429\n",
      "No internet    1526\n",
      "Name: count, dtype: int64\n",
      "\n",
      "deviceprotection value counts:\n",
      "deviceprotection\n",
      "No             3095\n",
      "Yes            2422\n",
      "No internet    1526\n",
      "Name: count, dtype: int64\n",
      "\n",
      "techsupport value counts:\n",
      "techsupport\n",
      "No             3473\n",
      "Yes            2044\n",
      "No internet    1526\n",
      "Name: count, dtype: int64\n",
      "\n",
      "streamingtv value counts:\n",
      "streamingtv\n",
      "No             2810\n",
      "Yes            2707\n",
      "No internet    1526\n",
      "Name: count, dtype: int64\n",
      "\n",
      "streamingmovies value counts:\n",
      "streamingmovies\n",
      "No             2785\n",
      "Yes            2732\n",
      "No internet    1526\n",
      "Name: count, dtype: int64\n"
     ]
    }
   ],
   "source": [
    "for col in internet_cols:\n",
    "    print(f\"\\n{col} value counts:\")\n",
    "    print(df[col].value_counts(dropna=False))"
   ]
  },
  {
   "cell_type": "code",
   "execution_count": 29,
   "id": "f61bbe5b",
   "metadata": {
    "scrolled": true
   },
   "outputs": [
    {
     "data": {
      "text/plain": [
       "0"
      ]
     },
     "execution_count": 29,
     "metadata": {},
     "output_type": "execute_result"
    }
   ],
   "source": [
    "df['multiplelines'].isnull().sum()"
   ]
  },
  {
   "cell_type": "code",
   "execution_count": 30,
   "id": "081f708f",
   "metadata": {},
   "outputs": [
    {
     "data": {
      "text/plain": [
       "customerid             0\n",
       "begindate              0\n",
       "enddate             5174\n",
       "type                   0\n",
       "paperlessbilling       0\n",
       "paymentmethod          0\n",
       "monthlycharges         0\n",
       "totalcharges          11\n",
       "gender                 0\n",
       "seniorcitizen          0\n",
       "partner                0\n",
       "dependents             0\n",
       "internetservice        0\n",
       "onlinesecurity         0\n",
       "onlinebackup           0\n",
       "deviceprotection       0\n",
       "techsupport            0\n",
       "streamingtv            0\n",
       "streamingmovies        0\n",
       "multiplelines          0\n",
       "churn                  0\n",
       "dtype: int64"
      ]
     },
     "execution_count": 30,
     "metadata": {},
     "output_type": "execute_result"
    }
   ],
   "source": [
    "# Make sure there aren't any missing values left at all\n",
    "df.isnull().sum()"
   ]
  },
  {
   "cell_type": "markdown",
   "id": "389e16af",
   "metadata": {},
   "source": [
    "### Address the `totalcharges` NaN"
   ]
  },
  {
   "cell_type": "code",
   "execution_count": 31,
   "id": "4b76ad97",
   "metadata": {
    "scrolled": false
   },
   "outputs": [
    {
     "data": {
      "text/html": [
       "<div>\n",
       "<style scoped>\n",
       "    .dataframe tbody tr th:only-of-type {\n",
       "        vertical-align: middle;\n",
       "    }\n",
       "\n",
       "    .dataframe tbody tr th {\n",
       "        vertical-align: top;\n",
       "    }\n",
       "\n",
       "    .dataframe thead th {\n",
       "        text-align: right;\n",
       "    }\n",
       "</style>\n",
       "<table border=\"1\" class=\"dataframe\">\n",
       "  <thead>\n",
       "    <tr style=\"text-align: right;\">\n",
       "      <th></th>\n",
       "      <th>customerid</th>\n",
       "      <th>totalcharges</th>\n",
       "      <th>monthlycharges</th>\n",
       "      <th>begindate</th>\n",
       "      <th>enddate</th>\n",
       "    </tr>\n",
       "  </thead>\n",
       "  <tbody>\n",
       "    <tr>\n",
       "      <th>488</th>\n",
       "      <td>4472-LVYGI</td>\n",
       "      <td>NaN</td>\n",
       "      <td>52.55</td>\n",
       "      <td>2020-02-01</td>\n",
       "      <td>NaT</td>\n",
       "    </tr>\n",
       "    <tr>\n",
       "      <th>753</th>\n",
       "      <td>3115-CZMZD</td>\n",
       "      <td>NaN</td>\n",
       "      <td>20.25</td>\n",
       "      <td>2020-02-01</td>\n",
       "      <td>NaT</td>\n",
       "    </tr>\n",
       "    <tr>\n",
       "      <th>936</th>\n",
       "      <td>5709-LVOEQ</td>\n",
       "      <td>NaN</td>\n",
       "      <td>80.85</td>\n",
       "      <td>2020-02-01</td>\n",
       "      <td>NaT</td>\n",
       "    </tr>\n",
       "    <tr>\n",
       "      <th>1082</th>\n",
       "      <td>4367-NUYAO</td>\n",
       "      <td>NaN</td>\n",
       "      <td>25.75</td>\n",
       "      <td>2020-02-01</td>\n",
       "      <td>NaT</td>\n",
       "    </tr>\n",
       "    <tr>\n",
       "      <th>1340</th>\n",
       "      <td>1371-DWPAZ</td>\n",
       "      <td>NaN</td>\n",
       "      <td>56.05</td>\n",
       "      <td>2020-02-01</td>\n",
       "      <td>NaT</td>\n",
       "    </tr>\n",
       "    <tr>\n",
       "      <th>3331</th>\n",
       "      <td>7644-OMVMY</td>\n",
       "      <td>NaN</td>\n",
       "      <td>19.85</td>\n",
       "      <td>2020-02-01</td>\n",
       "      <td>NaT</td>\n",
       "    </tr>\n",
       "    <tr>\n",
       "      <th>3826</th>\n",
       "      <td>3213-VVOLG</td>\n",
       "      <td>NaN</td>\n",
       "      <td>25.35</td>\n",
       "      <td>2020-02-01</td>\n",
       "      <td>NaT</td>\n",
       "    </tr>\n",
       "    <tr>\n",
       "      <th>4380</th>\n",
       "      <td>2520-SGTTA</td>\n",
       "      <td>NaN</td>\n",
       "      <td>20.00</td>\n",
       "      <td>2020-02-01</td>\n",
       "      <td>NaT</td>\n",
       "    </tr>\n",
       "    <tr>\n",
       "      <th>5218</th>\n",
       "      <td>2923-ARZLG</td>\n",
       "      <td>NaN</td>\n",
       "      <td>19.70</td>\n",
       "      <td>2020-02-01</td>\n",
       "      <td>NaT</td>\n",
       "    </tr>\n",
       "    <tr>\n",
       "      <th>6670</th>\n",
       "      <td>4075-WKNIU</td>\n",
       "      <td>NaN</td>\n",
       "      <td>73.35</td>\n",
       "      <td>2020-02-01</td>\n",
       "      <td>NaT</td>\n",
       "    </tr>\n",
       "    <tr>\n",
       "      <th>6754</th>\n",
       "      <td>2775-SEFEE</td>\n",
       "      <td>NaN</td>\n",
       "      <td>61.90</td>\n",
       "      <td>2020-02-01</td>\n",
       "      <td>NaT</td>\n",
       "    </tr>\n",
       "  </tbody>\n",
       "</table>\n",
       "</div>"
      ],
      "text/plain": [
       "      customerid  totalcharges  monthlycharges  begindate enddate\n",
       "488   4472-LVYGI           NaN           52.55 2020-02-01     NaT\n",
       "753   3115-CZMZD           NaN           20.25 2020-02-01     NaT\n",
       "936   5709-LVOEQ           NaN           80.85 2020-02-01     NaT\n",
       "1082  4367-NUYAO           NaN           25.75 2020-02-01     NaT\n",
       "1340  1371-DWPAZ           NaN           56.05 2020-02-01     NaT\n",
       "3331  7644-OMVMY           NaN           19.85 2020-02-01     NaT\n",
       "3826  3213-VVOLG           NaN           25.35 2020-02-01     NaT\n",
       "4380  2520-SGTTA           NaN           20.00 2020-02-01     NaT\n",
       "5218  2923-ARZLG           NaN           19.70 2020-02-01     NaT\n",
       "6670  4075-WKNIU           NaN           73.35 2020-02-01     NaT\n",
       "6754  2775-SEFEE           NaN           61.90 2020-02-01     NaT"
      ]
     },
     "execution_count": 31,
     "metadata": {},
     "output_type": "execute_result"
    }
   ],
   "source": [
    "df[df['totalcharges'].isna()][['customerid', 'totalcharges', 'monthlycharges', 'begindate', 'enddate']]"
   ]
  },
  {
   "cell_type": "markdown",
   "id": "8eedcd1e",
   "metadata": {},
   "source": [
    "These are new customers who started service on the last date in the dataset. They haven’t been billed yet, so totalcharges is legitimately missing. I'm going to drop them since a '0' could be misleading when modeling. "
   ]
  },
  {
   "cell_type": "code",
   "execution_count": 32,
   "id": "381c98ef",
   "metadata": {},
   "outputs": [],
   "source": [
    "df = df.dropna(subset=['totalcharges'])"
   ]
  },
  {
   "cell_type": "markdown",
   "id": "dce5d82d",
   "metadata": {},
   "source": [
    "### Conclusions from Investigating the Missing Values\n",
    "\n",
    "We observed that:\n",
    "\n",
    "- `InternetService` and all other internet-related columns had **exactly 1526 missing values**.\n",
    "- The **same rows** were missing all of these fields.\n",
    "- These rows likely represent customers **without internet service**.\n",
    "- Therefore, we filled these values with `'No internet'`.\n",
    "\n",
    "Similarly:\n",
    "\n",
    "- `MultipleLines` had **682 missing values**.\n",
    "- These likely correspond to customers **without phone service**.\n",
    "- We filled these values with `'No phone service'`.\n",
    "\n",
    "`totalcharges` had legitimate NaN values as these 11 customers joined on the last day of the dataset. I dropped them. "
   ]
  },
  {
   "cell_type": "markdown",
   "id": "3eade9e1",
   "metadata": {},
   "source": [
    "## Create a `tenure_months` column"
   ]
  },
  {
   "cell_type": "code",
   "execution_count": 33,
   "id": "93580acd",
   "metadata": {},
   "outputs": [
    {
     "name": "stdout",
     "output_type": "stream",
     "text": [
      "Latest enddate: 2020-01-01 00:00:00\n"
     ]
    }
   ],
   "source": [
    "# Find latest `enddate`\n",
    "latest_date = df['enddate'].max()\n",
    "print(\"Latest enddate:\", latest_date)\n",
    "\n",
    "# Fill the NATs with the latest end date\n",
    "df['enddate_fixed'] = df['enddate'].fillna(latest_date)"
   ]
  },
  {
   "cell_type": "code",
   "execution_count": 34,
   "id": "3b303ddd",
   "metadata": {},
   "outputs": [
    {
     "data": {
      "text/html": [
       "<div>\n",
       "<style scoped>\n",
       "    .dataframe tbody tr th:only-of-type {\n",
       "        vertical-align: middle;\n",
       "    }\n",
       "\n",
       "    .dataframe tbody tr th {\n",
       "        vertical-align: top;\n",
       "    }\n",
       "\n",
       "    .dataframe thead th {\n",
       "        text-align: right;\n",
       "    }\n",
       "</style>\n",
       "<table border=\"1\" class=\"dataframe\">\n",
       "  <thead>\n",
       "    <tr style=\"text-align: right;\">\n",
       "      <th></th>\n",
       "      <th>enddate</th>\n",
       "      <th>enddate_fixed</th>\n",
       "    </tr>\n",
       "  </thead>\n",
       "  <tbody>\n",
       "    <tr>\n",
       "      <th>2954</th>\n",
       "      <td>2020-01-01</td>\n",
       "      <td>2020-01-01</td>\n",
       "    </tr>\n",
       "    <tr>\n",
       "      <th>5497</th>\n",
       "      <td>2019-10-01</td>\n",
       "      <td>2019-10-01</td>\n",
       "    </tr>\n",
       "    <tr>\n",
       "      <th>4782</th>\n",
       "      <td>NaT</td>\n",
       "      <td>2020-01-01</td>\n",
       "    </tr>\n",
       "    <tr>\n",
       "      <th>237</th>\n",
       "      <td>NaT</td>\n",
       "      <td>2020-01-01</td>\n",
       "    </tr>\n",
       "    <tr>\n",
       "      <th>4321</th>\n",
       "      <td>NaT</td>\n",
       "      <td>2020-01-01</td>\n",
       "    </tr>\n",
       "  </tbody>\n",
       "</table>\n",
       "</div>"
      ],
      "text/plain": [
       "        enddate enddate_fixed\n",
       "2954 2020-01-01    2020-01-01\n",
       "5497 2019-10-01    2019-10-01\n",
       "4782        NaT    2020-01-01\n",
       "237         NaT    2020-01-01\n",
       "4321        NaT    2020-01-01"
      ]
     },
     "execution_count": 34,
     "metadata": {},
     "output_type": "execute_result"
    }
   ],
   "source": [
    "# Check our work\n",
    "df[['enddate', 'enddate_fixed']].sample(5)"
   ]
  },
  {
   "cell_type": "code",
   "execution_count": 35,
   "id": "1abb0c06",
   "metadata": {},
   "outputs": [],
   "source": [
    "# Calculate tenure in months\n",
    "df['tenure_months'] = ((df['enddate_fixed'] - df['begindate']) / np.timedelta64(1, 'D') / 30).round()"
   ]
  },
  {
   "cell_type": "code",
   "execution_count": 36,
   "id": "7a96691e",
   "metadata": {
    "scrolled": true
   },
   "outputs": [
    {
     "data": {
      "text/html": [
       "<div>\n",
       "<style scoped>\n",
       "    .dataframe tbody tr th:only-of-type {\n",
       "        vertical-align: middle;\n",
       "    }\n",
       "\n",
       "    .dataframe tbody tr th {\n",
       "        vertical-align: top;\n",
       "    }\n",
       "\n",
       "    .dataframe thead th {\n",
       "        text-align: right;\n",
       "    }\n",
       "</style>\n",
       "<table border=\"1\" class=\"dataframe\">\n",
       "  <thead>\n",
       "    <tr style=\"text-align: right;\">\n",
       "      <th></th>\n",
       "      <th>begindate</th>\n",
       "      <th>enddate_fixed</th>\n",
       "      <th>tenure_months</th>\n",
       "    </tr>\n",
       "  </thead>\n",
       "  <tbody>\n",
       "    <tr>\n",
       "      <th>43</th>\n",
       "      <td>2014-11-01</td>\n",
       "      <td>2020-01-01</td>\n",
       "      <td>63.0</td>\n",
       "    </tr>\n",
       "    <tr>\n",
       "      <th>4333</th>\n",
       "      <td>2017-07-01</td>\n",
       "      <td>2020-01-01</td>\n",
       "      <td>30.0</td>\n",
       "    </tr>\n",
       "    <tr>\n",
       "      <th>681</th>\n",
       "      <td>2015-01-01</td>\n",
       "      <td>2020-01-01</td>\n",
       "      <td>61.0</td>\n",
       "    </tr>\n",
       "    <tr>\n",
       "      <th>5412</th>\n",
       "      <td>2015-01-01</td>\n",
       "      <td>2020-01-01</td>\n",
       "      <td>61.0</td>\n",
       "    </tr>\n",
       "    <tr>\n",
       "      <th>4522</th>\n",
       "      <td>2017-08-01</td>\n",
       "      <td>2020-01-01</td>\n",
       "      <td>29.0</td>\n",
       "    </tr>\n",
       "  </tbody>\n",
       "</table>\n",
       "</div>"
      ],
      "text/plain": [
       "      begindate enddate_fixed  tenure_months\n",
       "43   2014-11-01    2020-01-01           63.0\n",
       "4333 2017-07-01    2020-01-01           30.0\n",
       "681  2015-01-01    2020-01-01           61.0\n",
       "5412 2015-01-01    2020-01-01           61.0\n",
       "4522 2017-08-01    2020-01-01           29.0"
      ]
     },
     "execution_count": 36,
     "metadata": {},
     "output_type": "execute_result"
    }
   ],
   "source": [
    "# Check our work\n",
    "df[['begindate', 'enddate_fixed', 'tenure_months']].sample(5)"
   ]
  },
  {
   "cell_type": "code",
   "execution_count": 37,
   "id": "e1868b56",
   "metadata": {},
   "outputs": [
    {
     "data": {
      "text/plain": [
       "enddate_fixed    0\n",
       "tenure_months    0\n",
       "dtype: int64"
      ]
     },
     "execution_count": 37,
     "metadata": {},
     "output_type": "execute_result"
    }
   ],
   "source": [
    "df[['enddate_fixed', 'tenure_months']].isnull().sum()"
   ]
  },
  {
   "cell_type": "code",
   "execution_count": 38,
   "id": "91b333eb",
   "metadata": {},
   "outputs": [
    {
     "name": "stdout",
     "output_type": "stream",
     "text": [
      "<class 'pandas.core.frame.DataFrame'>\n",
      "Index: 7032 entries, 0 to 7042\n",
      "Data columns (total 23 columns):\n",
      " #   Column            Non-Null Count  Dtype         \n",
      "---  ------            --------------  -----         \n",
      " 0   customerid        7032 non-null   object        \n",
      " 1   begindate         7032 non-null   datetime64[ns]\n",
      " 2   enddate           1869 non-null   datetime64[ns]\n",
      " 3   type              7032 non-null   object        \n",
      " 4   paperlessbilling  7032 non-null   object        \n",
      " 5   paymentmethod     7032 non-null   object        \n",
      " 6   monthlycharges    7032 non-null   float64       \n",
      " 7   totalcharges      7032 non-null   float64       \n",
      " 8   gender            7032 non-null   object        \n",
      " 9   seniorcitizen     7032 non-null   int64         \n",
      " 10  partner           7032 non-null   object        \n",
      " 11  dependents        7032 non-null   object        \n",
      " 12  internetservice   7032 non-null   object        \n",
      " 13  onlinesecurity    7032 non-null   object        \n",
      " 14  onlinebackup      7032 non-null   object        \n",
      " 15  deviceprotection  7032 non-null   object        \n",
      " 16  techsupport       7032 non-null   object        \n",
      " 17  streamingtv       7032 non-null   object        \n",
      " 18  streamingmovies   7032 non-null   object        \n",
      " 19  multiplelines     7032 non-null   object        \n",
      " 20  churn             7032 non-null   int64         \n",
      " 21  enddate_fixed     7032 non-null   datetime64[ns]\n",
      " 22  tenure_months     7032 non-null   float64       \n",
      "dtypes: datetime64[ns](3), float64(3), int64(2), object(15)\n",
      "memory usage: 1.3+ MB\n"
     ]
    }
   ],
   "source": [
    "df.info()"
   ]
  },
  {
   "cell_type": "markdown",
   "id": "19c24852",
   "metadata": {},
   "source": [
    "## Drop unneccessary columns"
   ]
  },
  {
   "cell_type": "code",
   "execution_count": 39,
   "id": "10501990",
   "metadata": {},
   "outputs": [],
   "source": [
    "df = df.drop(columns=['customerid', 'begindate', 'enddate', 'enddate_fixed'])"
   ]
  },
  {
   "cell_type": "markdown",
   "id": "e8b38639",
   "metadata": {},
   "source": [
    "## Encode categorical columns"
   ]
  },
  {
   "cell_type": "code",
   "execution_count": 40,
   "id": "85fc9c5f",
   "metadata": {
    "scrolled": true
   },
   "outputs": [
    {
     "data": {
      "text/plain": [
       "type                3\n",
       "paperlessbilling    2\n",
       "paymentmethod       4\n",
       "gender              2\n",
       "partner             2\n",
       "dependents          2\n",
       "internetservice     3\n",
       "onlinesecurity      3\n",
       "onlinebackup        3\n",
       "deviceprotection    3\n",
       "techsupport         3\n",
       "streamingtv         3\n",
       "streamingmovies     3\n",
       "multiplelines       3\n",
       "dtype: int64"
      ]
     },
     "execution_count": 40,
     "metadata": {},
     "output_type": "execute_result"
    }
   ],
   "source": [
    "# Check the columns that will be encoded\n",
    "df.select_dtypes(include='object').nunique()"
   ]
  },
  {
   "cell_type": "markdown",
   "id": "910417fb",
   "metadata": {},
   "source": [
    "The categorical columns all have 2-4 values, so there aren't any high cardinality issues. Most values are things like: 'No', 'Yes', and 'No Service.' I'm going to use One-Hot Encoding. "
   ]
  },
  {
   "cell_type": "code",
   "execution_count": 41,
   "id": "c3d290a9",
   "metadata": {},
   "outputs": [],
   "source": [
    "categorical_cols = ['type',\n",
    " 'paperlessbilling',\n",
    " 'paymentmethod',\n",
    " 'gender',\n",
    " 'partner',\n",
    " 'dependents',\n",
    " 'internetservice',\n",
    " 'onlinesecurity',\n",
    " 'onlinebackup',\n",
    " 'deviceprotection',\n",
    " 'techsupport',\n",
    " 'streamingtv',\n",
    " 'streamingmovies',\n",
    " 'multiplelines'\n",
    "]\n",
    "\n",
    "# Apply one-hot encoding\n",
    "df_encoded = pd.get_dummies(df, columns=categorical_cols, drop_first=True)\n"
   ]
  },
  {
   "cell_type": "markdown",
   "id": "3234efa5",
   "metadata": {},
   "source": [
    "# Exploratory Data Analysis (EDA)"
   ]
  },
  {
   "cell_type": "markdown",
   "id": "92014ad5",
   "metadata": {},
   "source": [
    "## Basic Overview"
   ]
  },
  {
   "cell_type": "code",
   "execution_count": 42,
   "id": "70267d2b",
   "metadata": {
    "scrolled": true
   },
   "outputs": [
    {
     "name": "stdout",
     "output_type": "stream",
     "text": [
      "<class 'pandas.core.frame.DataFrame'>\n",
      "Index: 7032 entries, 0 to 7042\n",
      "Data columns (total 30 columns):\n",
      " #   Column                                 Non-Null Count  Dtype  \n",
      "---  ------                                 --------------  -----  \n",
      " 0   monthlycharges                         7032 non-null   float64\n",
      " 1   totalcharges                           7032 non-null   float64\n",
      " 2   seniorcitizen                          7032 non-null   int64  \n",
      " 3   churn                                  7032 non-null   int64  \n",
      " 4   tenure_months                          7032 non-null   float64\n",
      " 5   type_One year                          7032 non-null   bool   \n",
      " 6   type_Two year                          7032 non-null   bool   \n",
      " 7   paperlessbilling_Yes                   7032 non-null   bool   \n",
      " 8   paymentmethod_Credit card (automatic)  7032 non-null   bool   \n",
      " 9   paymentmethod_Electronic check         7032 non-null   bool   \n",
      " 10  paymentmethod_Mailed check             7032 non-null   bool   \n",
      " 11  gender_Male                            7032 non-null   bool   \n",
      " 12  partner_Yes                            7032 non-null   bool   \n",
      " 13  dependents_Yes                         7032 non-null   bool   \n",
      " 14  internetservice_Fiber optic            7032 non-null   bool   \n",
      " 15  internetservice_No internet            7032 non-null   bool   \n",
      " 16  onlinesecurity_No internet             7032 non-null   bool   \n",
      " 17  onlinesecurity_Yes                     7032 non-null   bool   \n",
      " 18  onlinebackup_No internet               7032 non-null   bool   \n",
      " 19  onlinebackup_Yes                       7032 non-null   bool   \n",
      " 20  deviceprotection_No internet           7032 non-null   bool   \n",
      " 21  deviceprotection_Yes                   7032 non-null   bool   \n",
      " 22  techsupport_No internet                7032 non-null   bool   \n",
      " 23  techsupport_Yes                        7032 non-null   bool   \n",
      " 24  streamingtv_No internet                7032 non-null   bool   \n",
      " 25  streamingtv_Yes                        7032 non-null   bool   \n",
      " 26  streamingmovies_No internet            7032 non-null   bool   \n",
      " 27  streamingmovies_Yes                    7032 non-null   bool   \n",
      " 28  multiplelines_No phone service         7032 non-null   bool   \n",
      " 29  multiplelines_Yes                      7032 non-null   bool   \n",
      "dtypes: bool(25), float64(3), int64(2)\n",
      "memory usage: 501.3 KB\n"
     ]
    }
   ],
   "source": [
    "# Check our work\n",
    "df_encoded.info()"
   ]
  },
  {
   "cell_type": "code",
   "execution_count": 43,
   "id": "62d3a6d7",
   "metadata": {
    "scrolled": true
   },
   "outputs": [
    {
     "data": {
      "text/html": [
       "<div>\n",
       "<style scoped>\n",
       "    .dataframe tbody tr th:only-of-type {\n",
       "        vertical-align: middle;\n",
       "    }\n",
       "\n",
       "    .dataframe tbody tr th {\n",
       "        vertical-align: top;\n",
       "    }\n",
       "\n",
       "    .dataframe thead th {\n",
       "        text-align: right;\n",
       "    }\n",
       "</style>\n",
       "<table border=\"1\" class=\"dataframe\">\n",
       "  <thead>\n",
       "    <tr style=\"text-align: right;\">\n",
       "      <th></th>\n",
       "      <th>monthlycharges</th>\n",
       "      <th>totalcharges</th>\n",
       "      <th>tenure_months</th>\n",
       "    </tr>\n",
       "  </thead>\n",
       "  <tbody>\n",
       "    <tr>\n",
       "      <th>count</th>\n",
       "      <td>7032.000000</td>\n",
       "      <td>7032.000000</td>\n",
       "      <td>7032.000000</td>\n",
       "    </tr>\n",
       "    <tr>\n",
       "      <th>mean</th>\n",
       "      <td>64.798208</td>\n",
       "      <td>2283.300441</td>\n",
       "      <td>32.127133</td>\n",
       "    </tr>\n",
       "    <tr>\n",
       "      <th>std</th>\n",
       "      <td>30.085974</td>\n",
       "      <td>2266.771362</td>\n",
       "      <td>24.836093</td>\n",
       "    </tr>\n",
       "    <tr>\n",
       "      <th>min</th>\n",
       "      <td>18.250000</td>\n",
       "      <td>18.800000</td>\n",
       "      <td>0.000000</td>\n",
       "    </tr>\n",
       "    <tr>\n",
       "      <th>25%</th>\n",
       "      <td>35.587500</td>\n",
       "      <td>401.450000</td>\n",
       "      <td>8.000000</td>\n",
       "    </tr>\n",
       "    <tr>\n",
       "      <th>50%</th>\n",
       "      <td>70.350000</td>\n",
       "      <td>1397.475000</td>\n",
       "      <td>28.000000</td>\n",
       "    </tr>\n",
       "    <tr>\n",
       "      <th>75%</th>\n",
       "      <td>89.862500</td>\n",
       "      <td>3794.737500</td>\n",
       "      <td>56.000000</td>\n",
       "    </tr>\n",
       "    <tr>\n",
       "      <th>max</th>\n",
       "      <td>118.750000</td>\n",
       "      <td>8684.800000</td>\n",
       "      <td>73.000000</td>\n",
       "    </tr>\n",
       "  </tbody>\n",
       "</table>\n",
       "</div>"
      ],
      "text/plain": [
       "       monthlycharges  totalcharges  tenure_months\n",
       "count     7032.000000   7032.000000    7032.000000\n",
       "mean        64.798208   2283.300441      32.127133\n",
       "std         30.085974   2266.771362      24.836093\n",
       "min         18.250000     18.800000       0.000000\n",
       "25%         35.587500    401.450000       8.000000\n",
       "50%         70.350000   1397.475000      28.000000\n",
       "75%         89.862500   3794.737500      56.000000\n",
       "max        118.750000   8684.800000      73.000000"
      ]
     },
     "metadata": {},
     "output_type": "display_data"
    },
    {
     "name": "stdout",
     "output_type": "stream",
     "text": [
      "churn\n",
      "1    0.734215\n",
      "0    0.265785\n",
      "Name: proportion, dtype: float64\n"
     ]
    }
   ],
   "source": [
    "# Summary stats for numeric features\n",
    "display(df_encoded[['monthlycharges', 'totalcharges', 'tenure_months']].describe())\n",
    "\n",
    "\n",
    "# Churn distribution\n",
    "print(df_encoded['churn'].value_counts(normalize=True))"
   ]
  },
  {
   "cell_type": "markdown",
   "id": "453c5aef",
   "metadata": {},
   "source": [
    "# Create a copy for plotting... \n",
    "\n"
   ]
  },
  {
   "cell_type": "code",
   "execution_count": 44,
   "id": "65cd42b3",
   "metadata": {},
   "outputs": [],
   "source": [
    "# Create a temporary copy for plotting only\n",
    "df_plot = df_encoded.copy()\n"
   ]
  },
  {
   "cell_type": "code",
   "execution_count": 45,
   "id": "6198dfc4",
   "metadata": {},
   "outputs": [
    {
     "data": {
      "image/png": "[encoded data removed]",
      "text/plain": [
       "<Figure size 600x400 with 1 Axes>"
      ]
     },
     "metadata": {},
     "output_type": "display_data"
    },
    {
     "data": {
      "image/png": "[encoded data removed]",
      "text/plain": [
       "<Figure size 600x400 with 1 Axes>"
      ]
     },
     "metadata": {},
     "output_type": "display_data"
    },
    {
     "data": {
      "image/png": "[encoded data removed]",
      "text/plain": [
       "<Figure size 600x400 with 1 Axes>"
      ]
     },
     "metadata": {},
     "output_type": "display_data"
    }
   ],
   "source": [
    "# Visualize the numerical columns\n",
    "\n",
    "numeric_cols = ['monthlycharges', 'totalcharges', 'tenure_months']\n",
    "\n",
    "for col in numeric_cols:\n",
    "    plt.figure(figsize=(6, 4))\n",
    "    sns.histplot(df_plot[col], kde=True, bins=40)\n",
    "    plt.title(f'Distribution of {col}')\n",
    "    plt.xlabel(col)\n",
    "    plt.ylabel('Frequency')\n",
    "    plt.tight_layout()\n",
    "    plt.show()"
   ]
  },
  {
   "cell_type": "markdown",
   "id": "9d299d32",
   "metadata": {},
   "source": [
    "From the summary stats:\n",
    "- `monthlycharges`: has a peak at $20. This could be that there are customers without internet or phone service. There is a spread between $40 - $120, which might reflect customers with bundled plans. Shows we have customers who pay the minimum and other who subscribe to premium tiers. \n",
    "- `totalcharges`: Strong right-skew. This makes sense for subscriptions cumulative billing over time. \n",
    "- `tenure_months`: U-shaped. Many new customers and a noticeable group of long-term customers. Dip in the middle might be something to look at when exploring tenure vs. churn. \n",
    "\n",
    "Churn:\n",
    "- Looks like we have a class imbalance here to address before modeling. "
   ]
  },
  {
   "cell_type": "markdown",
   "id": "6a08ee19",
   "metadata": {},
   "source": [
    "## Exploring Feature Impact on Churn\n",
    "What features are meaningfully different between customers who churn and those who stay? \n",
    "\n",
    "- Are churned customers paying more or less per month?\n",
    "- Do churned customers have shorter tenure?\n",
    "- Does the type of contract or payment method influence churn?\n",
    "- Do certain service combinations (like no internet) make people more likely to stay?\n",
    "\n",
    "We're looking to build better models by identifying which features matter and also give business insights. "
   ]
  },
  {
   "cell_type": "code",
   "execution_count": 46,
   "id": "46670ed4",
   "metadata": {
    "scrolled": true
   },
   "outputs": [
    {
     "data": {
      "image/png": "[encoded data removed]",
      "text/plain": [
       "<Figure size 600x400 with 1 Axes>"
      ]
     },
     "metadata": {},
     "output_type": "display_data"
    },
    {
     "data": {
      "image/png": "[encoded data removed]",
      "text/plain": [
       "<Figure size 600x400 with 1 Axes>"
      ]
     },
     "metadata": {},
     "output_type": "display_data"
    },
    {
     "data": {
      "image/png": "[encoded data removed]",
      "text/plain": [
       "<Figure size 600x400 with 1 Axes>"
      ]
     },
     "metadata": {},
     "output_type": "display_data"
    }
   ],
   "source": [
    "# Visualize how numerical columns varied for customers who churned\n",
    "for col in numeric_cols:\n",
    "    plt.figure(figsize=(6, 4))\n",
    "    sns.boxplot(x='churn', y=col, data=df_plot)\n",
    "    plt.title(f'{col} vs. Churn')\n",
    "    plt.xlabel('Churn (0 = churned, 1 = active)')\n",
    "    plt.ylabel(col)\n",
    "    plt.tight_layout()\n",
    "    plt.show()"
   ]
  },
  {
   "cell_type": "markdown",
   "id": "de5e9390",
   "metadata": {},
   "source": [
    "- It looks like there is a correlation between higher monthly charges and churn.\n",
    "    - Customers who churned have a monthly charge around $80, compared to ~$65 for those who stayed. \n",
    "\n",
    "- `Totalcharges` doesn't appear to be independently useful, but might still be helpful in a model. Tenure appears to explain churn better. \n",
    "\n",
    "\n",
    "- There also appears to be a correlation between lower tenure and churn. \n",
    "    - Churned customers have a median tenure of about 10 months, while active customers have show a median of closer to 40 months. "
   ]
  },
  {
   "cell_type": "markdown",
   "id": "9cfbe47b",
   "metadata": {},
   "source": [
    "### Categorical Features vs Churn\n",
    "Many business features and customer experiences are categorical. Let's see if certain categorgies have higher or lower churn rates?\n",
    "\n",
    "For example: \n",
    "- Do customers on month-to-month plans churn more than those with yearly contracts?\n",
    "- Do customers who pay by electronic check churn more?"
   ]
  },
  {
   "cell_type": "markdown",
   "id": "2fef0552",
   "metadata": {},
   "source": [
    "#### Contract Type vs Churn"
   ]
  },
  {
   "cell_type": "code",
   "execution_count": 47,
   "id": "cc843827",
   "metadata": {
    "scrolled": true
   },
   "outputs": [
    {
     "data": {
      "image/png": "[encoded data removed]",
      "text/plain": [
       "<Figure size 640x480 with 1 Axes>"
      ]
     },
     "metadata": {},
     "output_type": "display_data"
    }
   ],
   "source": [
    "# Create a new column for readable contract type; remember 1=active\n",
    "def get_contract_type(row):\n",
    "    if row['type_One year']:\n",
    "        return 'One year'\n",
    "    elif row['type_Two year']:\n",
    "        return 'Two year'\n",
    "    else:\n",
    "        return 'Month-to-month'\n",
    "\n",
    "df_plot['contract_type'] = df_plot.apply(get_contract_type, axis=1)\n",
    "\n",
    "# Calculate churn rate by contract type\n",
    "contract_churn = df_plot.groupby('contract_type')['churn'].mean()\n",
    "contract_churn = 1 - contract_churn  #  actual churn = 1 - mean(churn).\n",
    "\n",
    "# Plot\n",
    "contract_churn.plot(kind='bar', title='Churn Rate by Contract Type', ylabel='Churn Rate', xlabel='Contract Type')\n",
    "plt.ylim(0, 1)\n",
    "plt.show()"
   ]
  },
  {
   "cell_type": "markdown",
   "id": "3420816a",
   "metadata": {},
   "source": [
    "- Customers with longer contracts are much more likely to stay.\n",
    "- Suggests contract commitment helps reduce churn — either through financial incentives or effort required to cancel."
   ]
  },
  {
   "cell_type": "markdown",
   "id": "8aff4f4e",
   "metadata": {},
   "source": [
    "#### Payment Method vs Churn\n",
    "Are some payment methods more likely to lead to churn? \n",
    "\n",
    "Payment method might reflect customer trust and involvement:\n",
    "- Automatic payments could correlate with long-term intent\n",
    "- Electronic check might relate to financial instability or dissatisfaction"
   ]
  },
  {
   "cell_type": "code",
   "execution_count": 48,
   "id": "78f559d1",
   "metadata": {},
   "outputs": [],
   "source": [
    "# Map one-hot columns back to readable labels\n",
    "def get_payment_method(row):\n",
    "    if row['paymentmethod_Credit card (automatic)']:\n",
    "        return 'Credit Card'\n",
    "    elif row['paymentmethod_Electronic check']:\n",
    "        return 'Electronic Check'\n",
    "    elif row['paymentmethod_Mailed check']:\n",
    "        return 'Mailed Check'\n",
    "    else:\n",
    "        return 'Other'\n",
    "\n",
    "df_plot['payment_method'] = df_plot.apply(get_payment_method, axis=1)"
   ]
  },
  {
   "cell_type": "code",
   "execution_count": 49,
   "id": "049cf700",
   "metadata": {},
   "outputs": [
    {
     "data": {
      "image/png": "[encoded data removed]",
      "text/plain": [
       "<Figure size 640x480 with 1 Axes>"
      ]
     },
     "metadata": {},
     "output_type": "display_data"
    }
   ],
   "source": [
    "# Calculate actual churn rate\n",
    "payment_churn = df_plot.groupby('payment_method')['churn'].mean()\n",
    "payment_churn = 1 - payment_churn  # Flip since 1 = active\n",
    "\n",
    "# Plot\n",
    "payment_churn.sort_values().plot(kind='bar', title='Churn Rate by Payment Method',\n",
    "                                 ylabel='Churn Rate', \n",
    "                                 xlabel='Payment Method')\n",
    "plt.ylim(0, 1)\n",
    "plt.show()"
   ]
  },
  {
   "cell_type": "markdown",
   "id": "a3425fff",
   "metadata": {},
   "source": [
    "What we're finding here is that customers who pay via electronic check have a higher churn rate than other payment methods. \n",
    "\n",
    "- Electronic check users may represent higher-risk customers? Or is there another issue at play?\n",
    "- Customers paying with more traditional payment methods seem likely to stay. "
   ]
  },
  {
   "cell_type": "markdown",
   "id": "56e1528e",
   "metadata": {},
   "source": [
    "#### Paperless Billing vs Churn\n",
    "Do customers with paperless billing churn more often than those with paper bills?\n",
    "\n",
    "This seems like a minor feature, but it could reflect billing preferences tied to satisfaction or correlate with other risk factors. "
   ]
  },
  {
   "cell_type": "code",
   "execution_count": 50,
   "id": "a0a1f68a",
   "metadata": {},
   "outputs": [],
   "source": [
    "# Create a readable column using a map\n",
    "df_plot['paperless'] = df_plot['paperlessbilling_Yes'].map({True: 'Yes', False: 'No'})"
   ]
  },
  {
   "cell_type": "code",
   "execution_count": 51,
   "id": "de86c746",
   "metadata": {
    "scrolled": false
   },
   "outputs": [
    {
     "data": {
      "image/png": "[encoded data removed]",
      "text/plain": [
       "<Figure size 640x480 with 1 Axes>"
      ]
     },
     "metadata": {},
     "output_type": "display_data"
    }
   ],
   "source": [
    "# Calculate churn\n",
    "paperless_churn = df_plot.groupby('paperless')['churn'].mean()\n",
    "paperless_churn = 1 - paperless_churn  # Flip to show churn rate\n",
    "\n",
    "# Plot\n",
    "paperless_churn.plot(kind='bar',\n",
    "                     title='Churn Rate by Paperless Billing',\n",
    "                     ylabel='Churn Rate',\n",
    "                     xlabel='Paperless Billing')\n",
    "plt.ylim(0, 1)\n",
    "plt.show()"
   ]
  },
  {
   "cell_type": "markdown",
   "id": "4ac17968",
   "metadata": {},
   "source": [
    "- Paperless billing shows a moderate relationship to churn.\n",
    "- On its own, it’s not a strong predictor, but it may be useful in combination with other features."
   ]
  },
  {
   "cell_type": "markdown",
   "id": "a340c558",
   "metadata": {},
   "source": [
    "#### Internet Service vs Churn\n",
    "Do customers with different types of internet service churn at different rates?"
   ]
  },
  {
   "cell_type": "code",
   "execution_count": 52,
   "id": "435bab2b",
   "metadata": {},
   "outputs": [],
   "source": [
    "# Create the readable column\n",
    "def get_internet_type(row):\n",
    "    if row['internetservice_No internet']:\n",
    "        return 'No Internet'\n",
    "    elif row['internetservice_Fiber optic']:\n",
    "        return 'Fiber Optic'\n",
    "    else:\n",
    "        return 'DSL'  # assumed if not the above\n",
    "\n",
    "df_plot['internet_type'] = df_plot.apply(get_internet_type, axis=1)"
   ]
  },
  {
   "cell_type": "code",
   "execution_count": 53,
   "id": "40c72ddf",
   "metadata": {
    "scrolled": true
   },
   "outputs": [
    {
     "data": {
      "image/png": "[encoded data removed]",
      "text/plain": [
       "<Figure size 640x480 with 1 Axes>"
      ]
     },
     "metadata": {},
     "output_type": "display_data"
    }
   ],
   "source": [
    "# Calculate churn\n",
    "internet_churn = df_plot.groupby('internet_type')['churn'].mean()\n",
    "internet_churn = 1 - internet_churn  # Flip since churn = 1 means active\n",
    "\n",
    "# Plot\n",
    "internet_churn.sort_values().plot(kind='bar',\n",
    "                                  title='Churn Rate by Internet Type',\n",
    "                                  ylabel='Churn Rate',\n",
    "                                  xlabel='Internet Type')\n",
    "plt.ylim(0, 1)\n",
    "plt.show()\n"
   ]
  },
  {
   "cell_type": "markdown",
   "id": "49d7c9ce",
   "metadata": {},
   "source": [
    "Findings:\n",
    "- Customers with Fiber Optic internet have the highest churn rate (~43%)\n",
    "\n",
    "Internet service type is a strong categorical predictor of churn —- especially when differentiating between fiber users and everyone else."
   ]
  },
  {
   "cell_type": "markdown",
   "id": "d0efbf23",
   "metadata": {},
   "source": [
    "#### Percentage of Customers Without Internet or Phone"
   ]
  },
  {
   "cell_type": "code",
   "execution_count": 54,
   "id": "4ab96b3d",
   "metadata": {
    "scrolled": true
   },
   "outputs": [
    {
     "name": "stdout",
     "output_type": "stream",
     "text": [
      "Percent of customers with no internet: 21.62 %\n",
      "Percent of customers with no phone service: 9.67 %\n"
     ]
    }
   ],
   "source": [
    "# Percent with no internet\n",
    "no_internet_pct = df_plot['internetservice_No internet'].mean()\n",
    "print(\"Percent of customers with no internet:\", round(no_internet_pct * 100, 2), \"%\")\n",
    "\n",
    "# Percent with no phone service\n",
    "no_phone_pct = df_plot['multiplelines_No phone service'].mean()\n",
    "print(\"Percent of customers with no phone service:\", round(no_phone_pct * 100, 2), \"%\")"
   ]
  },
  {
   "cell_type": "markdown",
   "id": "3596a75a",
   "metadata": {},
   "source": [
    "A significant portion (1 in 5) of the customer base does not use internet, which helps explain:\n",
    "\n",
    "- Why many internet-related columns include \"No internet\" categories\n",
    "\n",
    "- Why this group has lower churn — they may be long-term, low-cost phone customers with fewer expectations or contract changes\n",
    "\n",
    "- Fewer customers go without phone service (~10%), suggesting voice is still a more standard offering."
   ]
  },
  {
   "cell_type": "markdown",
   "id": "cc93c35b",
   "metadata": {},
   "source": [
    "### Correlation Heatmap\n",
    "How strongly are numeric features related to each other? And to churn?"
   ]
  },
  {
   "cell_type": "code",
   "execution_count": 55,
   "id": "6e1b0101",
   "metadata": {
    "scrolled": true
   },
   "outputs": [
    {
     "data": {
      "image/png": "[encoded data removed]",
      "text/plain": [
       "<Figure size 600x400 with 2 Axes>"
      ]
     },
     "metadata": {},
     "output_type": "display_data"
    }
   ],
   "source": [
    "# Focus on the numeric columns\n",
    "numeric_cols = ['monthlycharges', 'totalcharges', 'tenure_months', 'churn']\n",
    "corr = df_plot[numeric_cols].corr()\n",
    "\n",
    "# Plot \n",
    "plt.figure(figsize=(6, 4))\n",
    "sns.heatmap(corr, annot=True, cmap='coolwarm', fmt=\".2f\", center=0)\n",
    "plt.title(\"Correlation Heatmap of Numeric Features\")\n",
    "plt.tight_layout()\n",
    "plt.show()"
   ]
  },
  {
   "cell_type": "markdown",
   "id": "a7cd92d4",
   "metadata": {},
   "source": [
    "- Tenure is the strongest numeric predictor of churn, which matches what we saw in the boxplots.\n",
    "- Monthly charges show a weak inverse relationship with churn, supporting earlier findings.\n",
    "- `totalcharges` is less helpful on its own due to its strong dependency on tenure."
   ]
  },
  {
   "cell_type": "markdown",
   "id": "9f6e1726",
   "metadata": {},
   "source": [
    "### EDA Summary: What we learned about customer churn\n",
    "\n",
    "**Numeric Features**\n",
    "- Monthly Charges: Customers with higher monthly charges are more likely to churn. Many customers pay around $20, but there’s also a large spread of customers paying more, depending on the services they use.\n",
    "\n",
    "- Total Charges: Churned customers tend to have lower total charges, mostly because they’ve been with the company for a shorter time.\n",
    "\n",
    "- Tenure: This was one of the clearest patterns — customers who have been with the company longer are much less likely to churn.\n",
    "\n",
    "**Categorical Features**\n",
    "- Contract Type: Month-to-month customers churn way more often (~43%) than those with 1- or 2-year contracts (~12% and ~3%, respectively). Contract length really matters.\n",
    "\n",
    "- Payment Method: Customers using electronic checks churn the most (~46%), while those using credit cards or mailed checks have much lower churn rates (~15–20%).\n",
    "\n",
    "- Paperless Billing: There’s a moderate difference here — people with paperless billing churn more (~34%) than those who get paper bills (~16%).\n",
    "\n",
    "- Internet Service:\n",
    "    - Fiber optic customers churn the most (~43%)\n",
    "    - DSL users fall in the middle (~19%)\n",
    "    - Customers without internet service churn the least (~8%)\n",
    "\n",
    "**Extra Notes**\n",
    "- Around 22% of customers don’t have internet service\n",
    "- About 10% don’t have phone service\n",
    "\n",
    "These groups may represent low-engagement, lower-risk accounts\n",
    "\n",
    "**Correlations**\n",
    "- The strongest correlation with churn is tenure (0.34)\n",
    "- Monthly charges are negatively correlated with churn (–0.19)\n",
    "\n",
    "Total charges are strongly tied to tenure, not churn\n",
    "\n",
    "**What This Tells Us**\n",
    "- Churn is driven by tenure, monthly charges, contract type, and internet/payment choices\n",
    "- These features will be important when we move on to modeling\n",
    "- We’ll scale numeric features later if needed, depending on the model type\n",
    "\n"
   ]
  },
  {
   "cell_type": "markdown",
   "id": "63664f6a",
   "metadata": {},
   "source": [
    "##  Clarifying Questions\n",
    "- Should we prioritize interpretability (Logistic Regression) or maximum accuracy (XGBoost) for churn prediction?\n",
    "\n",
    "- How often is this model expected to be retrained (monthly, quarterly)?\n",
    "\n",
    "- Will this model be used to trigger automated retention actions, or simply inform a retention team?\n",
    "\n",
    "- Is class imbalance (for example, fewer churned customers) a concern we should address during training?\n",
    "\n"
   ]
  },
  {
   "cell_type": "markdown",
   "id": "c2e88408",
   "metadata": {},
   "source": [
    "# Work Plan: Forecasting Customer Churn in 3–5 Steps\n",
    "\n",
    "✅ **Step 1: Preprocessing and Feature Engineering**\n",
    "Clean and merge all source datasets, convert dates and numeric types, handle missing values, encode categorical features, and create the binary target (churn). \n",
    "\n",
    "✅ **Step 2: Exploratory Data Analysis**\n",
    "Explore feature distributions and compare churn vs. non-churn groups. Identify which features are correlated with churn and should be prioritized in modeling (e.g., tenure, contract type, payment method).\n",
    "\n",
    "**Step 3: Modeling**\n",
    "- Scale numeric features if needed for modeling. Train at least three models (Logistic Regression, Random Forest, Gradient Boosting (XGBoost)) using cross-validation. Evaluate each using AUC-ROC as the primary metric and Accuracy as a secondary measure.\n",
    "\n",
    "- Use GridSearchCV or RandomizedSearchCV to optimize key hyperparameters for top models. Focus on improving AUC-ROC and reducing overfitting.\n",
    "\n",
    "**Step 4: Model Comparison and Recommendation**\n",
    "Compare all models based on AUC-ROC and accuracy. Analyze feature importance and interpret top churn predictors. Recommend the best model for deployment and describe how it could be used to retain customers.\n",
    "\n",
    "**Step 5:Final Summary**\n",
    "Summarize findings and outline business implications (e.g., which features are good churn signals?). Describe next steps for deployment or marketing outreach."
   ]
  },
  {
   "cell_type": "code",
   "execution_count": null,
   "id": "6fef835e",
   "metadata": {},
   "outputs": [],
   "source": []
  },
  {
   "cell_type": "markdown",
   "id": "15946a35",
   "metadata": {},
   "source": [
    "# Statistical Data Analysis (SDA)\n",
    "Are the patterns we saw in EDA actually statistically significant, or could they be due to chance?\n",
    "\n",
    "Example questions: \n",
    "- Do customers who churn have significantly lower tenure than those who stay? Looking at the `tenure_months` data.\n",
    "- Is churn significantly more likely for month-to-month customers? Looking at `monthlycharges` data.\n",
    "- Does churn vary significantly across contract types? Looking at `contract_type` data.\n",
    "- Is churn related to payment behavior? Looking at `payment_method`"
   ]
  },
  {
   "cell_type": "markdown",
   "id": "6913c16d",
   "metadata": {},
   "source": [
    "## Do churned users have significantly more tenure than active users? \n",
    "`tenure_months` vs churn\n",
    "\n",
    "\n",
    "Earlier in the EDA, we observed that churned customers tend to have much lower tenure than those who remained active. The tenure distribution was U-shaped, with peaks at both ends and a dip in the middle — violating the normality assumption required for a t-test.\n",
    "\n",
    "To formally test whether the difference in tenure between churned and active customers is statistically significant, we used the **Mann–Whitney U test**, a non-parametric alternative that does not assume a normal distribution."
   ]
  },
  {
   "cell_type": "markdown",
   "id": "2013ffd5",
   "metadata": {},
   "source": [
    "- Null Hypothesis (H₀):\n",
    "There is no difference in tenure_months between churned and non-churned customers.\n",
    "\n",
    "- Alternative Hypothesis (H₁):\n",
    "Churned customers have different tenure than those who stayed.\n",
    "\n",
    "We'll reject the null hypothesis if the p-value is less than 0.05."
   ]
  },
  {
   "cell_type": "code",
   "execution_count": 56,
   "id": "39d2fe75",
   "metadata": {},
   "outputs": [],
   "source": [
    "# Group tenure by churn status\n",
    "churned = df_plot[df_plot['churn'] == 1]['tenure_months']\n",
    "not_churned = df_plot[df_plot['churn'] == 0]['tenure_months']\n"
   ]
  },
  {
   "cell_type": "code",
   "execution_count": 57,
   "id": "def57cfe",
   "metadata": {},
   "outputs": [
    {
     "name": "stdout",
     "output_type": "stream",
     "text": [
      "Mann–Whitney U statistic: 6981596.0 p-value: 0.0\n"
     ]
    }
   ],
   "source": [
    "# Perform Mann-Whitney U test\n",
    "stat, p = mannwhitneyu(churned, not_churned, alternative='two-sided')\n",
    "print(\"Mann–Whitney U statistic:\", round(stat, 3), \"p-value:\", round(p, 4))"
   ]
  },
  {
   "cell_type": "markdown",
   "id": "231c141f",
   "metadata": {},
   "source": [
    "A Mann–Whitney U test was conducted to evaluate whether customers who churned had significantly different tenure lengths compared to those who remained. \n",
    "\n",
    "The results indicated a significant difference in tenure distributions between churned and non-churned customers (U = 6,981,596, p < 0.001). \n",
    "\n",
    "**This supports the observation that customers who churned typically had much shorter tenure periods.**"
   ]
  },
  {
   "cell_type": "markdown",
   "id": "2235456d",
   "metadata": {},
   "source": [
    "## Are Monthly Charges Higher for Churned Customers?"
   ]
  },
  {
   "cell_type": "markdown",
   "id": "db28f049",
   "metadata": {},
   "source": [
    "- Null (H₀): There is no difference in monthly charges between churned and non-churned customers.\n",
    "- Alt (H₁): Monthly charges are different for churned vs. non-churned customers.\n",
    "\n"
   ]
  },
  {
   "cell_type": "code",
   "execution_count": 58,
   "id": "324bda43",
   "metadata": {
    "scrolled": true
   },
   "outputs": [
    {
     "data": {
      "image/png": "[encoded data removed]",
      "text/plain": [
       "<Figure size 640x480 with 1 Axes>"
      ]
     },
     "metadata": {},
     "output_type": "display_data"
    }
   ],
   "source": [
    "# Plot\n",
    "sns.boxplot(x='churn', y='monthlycharges', data=df_plot)\n",
    "plt.title('Monthly Charges by Churn Status')\n",
    "plt.show()"
   ]
  },
  {
   "cell_type": "markdown",
   "id": "fcec0688",
   "metadata": {},
   "source": [
    "- churn = 0 (non-churned):\n",
    "    - Median is higher, near the top of the interquartile range.\n",
    "    - Distribution is slightly left-skewed (longer lower whisker).\n",
    "\n",
    "- churn = 1 (churned):\n",
    "    - Median is lower, and the box is shifted down.\n",
    "    - Distribution is right-skewed (longer upper whisker, more spread above the median).\n",
    "\n",
    "There is clear asymmetry in both groups, especially for churned customers, so we should not assume normality. That means a Mann–Whitney U test is appropriate here too."
   ]
  },
  {
   "cell_type": "code",
   "execution_count": 59,
   "id": "15ff0410",
   "metadata": {},
   "outputs": [
    {
     "name": "stdout",
     "output_type": "stream",
     "text": [
      "Mann–Whitney U statistic: 3663498.5 p-value: 0.0\n"
     ]
    }
   ],
   "source": [
    "# Group tenure by churn status\n",
    "churned_charges = df_plot[df_plot['churn'] == 1]['monthlycharges']\n",
    "not_churned_charges = df_plot[df_plot['churn'] == 0]['monthlycharges']\n",
    "\n",
    "stat, p = mannwhitneyu(churned_charges, not_churned_charges, alternative='two-sided')\n",
    "print(\"Mann–Whitney U statistic:\", round(stat, 3), \"p-value:\", round(p, 4))"
   ]
  },
  {
   "cell_type": "markdown",
   "id": "b2eae8c4",
   "metadata": {},
   "source": [
    "A Mann–Whitney U test was used to assess whether monthly charges differ between customers who churned and those who remained. The results show a statistically significant difference in monthly charges between the two groups (U = 3,663,498.5, p < 0.001). Specifically, customers who churned tended to have lower monthly charges, supporting earlier visual observations."
   ]
  },
  {
   "cell_type": "markdown",
   "id": "e02337df",
   "metadata": {},
   "source": [
    "## Does churn vary across contract types?"
   ]
  },
  {
   "cell_type": "markdown",
   "id": "202a54df",
   "metadata": {},
   "source": [
    "- Null (H₀): Churn is independent of contract type (no relationship).\n",
    "- Alt (H₁): Churn is associated with contract type."
   ]
  },
  {
   "cell_type": "code",
   "execution_count": 60,
   "id": "819c486f",
   "metadata": {},
   "outputs": [
    {
     "name": "stdout",
     "output_type": "stream",
     "text": [
      "churn              0     1\n",
      "contract_type             \n",
      "Month-to-month  1655  2220\n",
      "One year         166  1306\n",
      "Two year          48  1637\n"
     ]
    }
   ],
   "source": [
    "# Contingency table of churn vs. contract_type\n",
    "ct_table = pd.crosstab(df_plot['contract_type'], df_plot['churn'])\n",
    "print(ct_table)"
   ]
  },
  {
   "cell_type": "code",
   "execution_count": 61,
   "id": "2f7ca8e7",
   "metadata": {},
   "outputs": [
    {
     "name": "stdout",
     "output_type": "stream",
     "text": [
      "Chi-squared statistic: 1179.546\n",
      "p-value: 0.0\n",
      "Degrees of freedom: 2\n"
     ]
    }
   ],
   "source": [
    "# Run the chi-squared test\n",
    "chi2, p, dof, expected = chi2_contingency(ct_table)\n",
    "\n",
    "print(\"Chi-squared statistic:\", round(chi2, 3))\n",
    "print(\"p-value:\", round(p, 4))\n",
    "print(\"Degrees of freedom:\", dof)"
   ]
  },
  {
   "cell_type": "markdown",
   "id": "6475eafa",
   "metadata": {},
   "source": [
    "A Chi-squared test of independence was performed to assess the relationship between contract type and customer churn. The results were statistically significant (χ²(2) = 1179.546, p < 0.001), providing strong evidence that churn is associated with contract type.\n",
    "\n",
    "Specifically, customers on month-to-month contracts showed much higher churn rates than those on one- or two-year contracts, suggesting that longer-term contracts are linked to greater customer retention."
   ]
  },
  {
   "cell_type": "code",
   "execution_count": 62,
   "id": "aae5b640",
   "metadata": {},
   "outputs": [],
   "source": [
    "# # Convert expected values to a DataFrame for readability\n",
    "# expected_df = pd.DataFrame(expected, \n",
    "#                            index=ct_table.index, \n",
    "#                            columns=ct_table.columns)\n",
    "\n",
    "# print(\"Expected Counts (if churn and contract_type were independent):\")\n",
    "# print(expected_df.round(1))"
   ]
  },
  {
   "cell_type": "markdown",
   "id": "48e76685",
   "metadata": {},
   "source": [
    "## Is Churn Related to Payment Method?\n",
    "\n",
    "- Null (H₀): Churn is independent of payment method.\n",
    "- Alt (H₁): Churn is associated with payment method.\n",
    "\n"
   ]
  },
  {
   "cell_type": "code",
   "execution_count": 63,
   "id": "3138ad17",
   "metadata": {},
   "outputs": [
    {
     "name": "stdout",
     "output_type": "stream",
     "text": [
      "churn                0     1\n",
      "payment_method              \n",
      "Credit Card        232  1289\n",
      "Electronic Check  1071  1294\n",
      "Mailed Check       308  1296\n",
      "Other              258  1284\n"
     ]
    }
   ],
   "source": [
    "# Cross-tabulation of payment method vs churn\n",
    "pm_table = pd.crosstab(df_plot['payment_method'], df_plot['churn'])\n",
    "print(pm_table)"
   ]
  },
  {
   "cell_type": "code",
   "execution_count": 64,
   "id": "f6028fce",
   "metadata": {},
   "outputs": [
    {
     "name": "stdout",
     "output_type": "stream",
     "text": [
      "Chi-squared statistic: 645.43\n",
      "p-value: 0.0\n",
      "Degrees of freedom: 3\n"
     ]
    }
   ],
   "source": [
    "chi2, p, dof, expected = chi2_contingency(pm_table)\n",
    "\n",
    "# Print results\n",
    "print(\"Chi-squared statistic:\", round(chi2, 3))\n",
    "print(\"p-value:\", round(p, 4))\n",
    "print(\"Degrees of freedom:\", dof)"
   ]
  },
  {
   "cell_type": "markdown",
   "id": "a12bf386",
   "metadata": {},
   "source": [
    "A Chi-squared test of independence was used to examine the relationship between payment method and customer churn. The results were statistically significant (χ²(3) = 645.43, p < 0.001), indicating that churn is associated with payment method.\n",
    "\n",
    "Specifically, customers using Electronic Check had a lower churn rate than those using other methods, suggesting that payment behavior may influence customer retention."
   ]
  },
  {
   "cell_type": "markdown",
   "id": "66e983ca",
   "metadata": {},
   "source": [
    "## Statistical Data Analysis Summary\n",
    "\n",
    "To complement the visual insights from EDA, we conducted formal statistical tests to assess whether specific features were significantly associated with customer churn:\n",
    "\n",
    "1. Tenure vs. Churn\n",
    "- Test: Mann–Whitney U\n",
    "- Result: U = 6,981,596.0, p < 0.001\n",
    "- Conclusion: Churned customers had significantly lower tenure, confirming early churn behavior.\n",
    "\n",
    "2. Monthly Charges vs. Churn\n",
    "- Test: Mann–Whitney U\n",
    "- Result: U = 3,663,498.5, p < 0.001\n",
    "- Conclusion: Monthly charges differ significantly between churned and retained customers, with churned customers typically having higher charges.\n",
    "\n",
    "3. Contract Type vs. Churn\n",
    "- Test: Chi-squared test of independence\n",
    "- Result: χ²(2) = 1179.546, p < 0.001\n",
    "- Conclusion: Churn is strongly associated with contract type. Month-to-month customers are far more likely to churn than those on longer-term contracts.\n",
    "\n",
    "4. Payment Method vs. Churn\n",
    "- Test: Chi-squared test of independence\n",
    "- Result: χ²(3) = 645.43, p < 0.001\n",
    "- Conclusion: Churn varies significantly by payment method. Customers using Electronic Check had lower churn rates compared to others.\n",
    "\n"
   ]
  },
  {
   "cell_type": "markdown",
   "id": "3d102e00",
   "metadata": {},
   "source": [
    "# Export CSV"
   ]
  },
  {
   "cell_type": "code",
   "execution_count": 67,
   "id": "8de91bee",
   "metadata": {},
   "outputs": [],
   "source": [
    "# Save dataframe for modeling\n",
    "df_encoded.to_csv('datasets/churn_cleaned.csv', index=False)"
   ]
  },
  {
   "cell_type": "code",
   "execution_count": null,
   "id": "cf1773dc",
   "metadata": {},
   "outputs": [],
   "source": []
  }
 ],
 "metadata": {
  "kernelspec": {
   "display_name": "Python 3 (ipykernel)",
   "language": "python",
   "name": "python3"
  },
  "language_info": {
   "codemirror_mode": {
    "name": "ipython",
    "version": 3
   },
   "file_extension": ".py",
   "mimetype": "text/x-python",
   "name": "python",
   "nbconvert_exporter": "python",
   "pygments_lexer": "ipython3",
   "version": "3.11.8"
  },
  "toc": {
   "base_numbering": 1,
   "nav_menu": {},
   "number_sections": true,
   "sideBar": true,
   "skip_h1_title": false,
   "title_cell": "Table of Contents",
   "title_sidebar": "Contents",
   "toc_cell": false,
   "toc_position": {
    "height": "calc(100% - 180px)",
    "left": "10px",
    "top": "150px",
    "width": "369.188px"
   },
   "toc_section_display": true,
   "toc_window_display": true
  }
 },
 "nbformat": 4,
 "nbformat_minor": 5
}
